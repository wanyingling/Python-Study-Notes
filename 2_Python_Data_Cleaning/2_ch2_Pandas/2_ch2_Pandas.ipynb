{
 "cells": [
  {
   "cell_type": "markdown",
   "source": [
    "# Pandas 教程 | Pandas Tutorial\n",
    "\n",
    "作者: 宛莹\n",
    "日期: 2025年1月\n",
    "\n",
    "Author: Wanying\n",
    "Date: January 2025"
   ],
   "metadata": {
    "collapsed": false
   },
   "id": "20418e99d7c3cb42"
  },
  {
   "cell_type": "markdown",
   "source": [
    "Pandas是一个强大的数据分析库,它提供了两种主要的数据结构:Series和DataFrame。\n",
    "Pandas is a powerful data analysis library that provides two main data structures: Series and DataFrame.\n",
    "\n",
    "我们将学习如何创建、索引和操作这些数据结构。\n",
    "We will learn how to create, index, and manipulate these data structures."
   ],
   "metadata": {
    "collapsed": false
   },
   "id": "296ee93b2f1b54e4"
  },
  {
   "cell_type": "code",
   "outputs": [],
   "source": [
    "import pandas as pd\n",
    "import numpy as np"
   ],
   "metadata": {
    "collapsed": false,
    "ExecuteTime": {
     "end_time": "2025-01-05T11:34:47.301165Z",
     "start_time": "2025-01-05T11:34:47.289663Z"
    }
   },
   "id": "e39b7333286b1496",
   "execution_count": 43
  },
  {
   "cell_type": "markdown",
   "source": [
    "## 创建Series | Creating Series\n",
    "\n",
    "Series是一个一维的数据结构,类似于一维数组,但是每个元素都有一个标签。\n",
    "A Series is a one-dimensional data structure, similar to a one-dimensional array, but each element has a label.\n",
    "\n",
    "我们可以从列表或NumPy数组创建Series。\n",
    "We can create a Series from a list or NumPy array."
   ],
   "metadata": {
    "collapsed": false
   },
   "id": "af2b5d12b0b8e5ee"
  },
  {
   "cell_type": "code",
   "outputs": [
    {
     "name": "stdout",
     "output_type": "stream",
     "text": [
      "Fruits Series:\n",
      " 0     apple\n",
      "1    banana\n",
      "2    orange\n",
      "3     grape\n",
      "dtype: object\n",
      "Numbers Series:\n",
      " 0    1\n",
      "1    2\n",
      "2    3\n",
      "3    4\n",
      "4    5\n",
      "dtype: int32\n"
     ]
    }
   ],
   "source": [
    "fruits = pd.Series([\"apple\", \"banana\", \"orange\", \"grape\"])\n",
    "print(\"Fruits Series:\\n\", fruits)\n",
    "\n",
    "numbers = pd.Series(np.array([1, 2, 3, 4, 5]))\n",
    "print(\"Numbers Series:\\n\", numbers)"
   ],
   "metadata": {
    "collapsed": false,
    "ExecuteTime": {
     "end_time": "2025-01-05T11:34:47.456522Z",
     "start_time": "2025-01-05T11:34:47.450102Z"
    }
   },
   "id": "95355826a25bf0fa",
   "execution_count": 44
  },
  {
   "cell_type": "markdown",
   "source": [
    "我们也可以在创建Series时指定索引标签。 We can also specify index labels when creating a Series."
   ],
   "metadata": {
    "collapsed": false
   },
   "id": "63bfb697f9642d72"
  },
  {
   "cell_type": "code",
   "outputs": [
    {
     "name": "stdout",
     "output_type": "stream",
     "text": [
      "Fruits Series with labels:\n",
      " a     apple\n",
      "b    banana\n",
      "c    orange\n",
      "d     grape\n",
      "dtype: object\n"
     ]
    }
   ],
   "source": [
    "fruits_with_labels = pd.Series([\"apple\", \"banana\", \"orange\", \"grape\"], index=[\"a\", \"b\", \"c\", \"d\"])\n",
    "print(\"Fruits Series with labels:\\n\", fruits_with_labels)"
   ],
   "metadata": {
    "collapsed": false,
    "ExecuteTime": {
     "end_time": "2025-01-05T11:34:47.472651Z",
     "start_time": "2025-01-05T11:34:47.457634Z"
    }
   },
   "id": "3f5c18a64e9c2b70",
   "execution_count": 45
  },
  {
   "cell_type": "markdown",
   "source": [
    "## 创建DataFrame | Creating DataFrame\n",
    "\n",
    "DataFrame是一个二维的数据结构,类似于电子表格或SQL表。\n",
    "A DataFrame is a two-dimensional data structure, similar to a spreadsheet or SQL table.\n",
    "\n",
    "我们可以从字典创建DataFrame,其中字典的键为列名,值为列数据。\n",
    "We can create a DataFrame from a dictionary, where the keys are column names and the values are column data."
   ],
   "metadata": {
    "collapsed": false
   },
   "id": "b3ac2e0446910070"
  },
  {
   "cell_type": "code",
   "outputs": [
    {
     "name": "stdout",
     "output_type": "stream",
     "text": [
      "Students DataFrame:\n",
      "       Name  Age      Major\n",
      "0    Alice   25       Math\n",
      "1      Bob   30    Physics\n",
      "2  Charlie   35  Chemistry\n",
      "3    David   40    Biology\n"
     ]
    }
   ],
   "source": [
    "student_data = {\n",
    "    \"Name\": [\"Alice\", \"Bob\", \"Charlie\", \"David\"],\n",
    "    \"Age\": [25, 30, 35, 40],\n",
    "    \"Major\": [\"Math\", \"Physics\", \"Chemistry\", \"Biology\"]\n",
    "}\n",
    "students_df = pd.DataFrame(student_data)\n",
    "print(\"Students DataFrame:\\n\", students_df)"
   ],
   "metadata": {
    "collapsed": false,
    "ExecuteTime": {
     "end_time": "2025-01-05T11:34:47.488157Z",
     "start_time": "2025-01-05T11:34:47.473730Z"
    }
   },
   "id": "6883c2d33c5fb771",
   "execution_count": 46
  },
  {
   "cell_type": "markdown",
   "source": [
    "我们也可以从列表字典创建DataFrame。\n",
    "We can also create a DataFrame from a list of dictionaries."
   ],
   "metadata": {
    "collapsed": false
   },
   "id": "ffc705c64690d05e"
  },
  {
   "cell_type": "code",
   "outputs": [
    {
     "name": "stdout",
     "output_type": "stream",
     "text": [
      "Students DataFrame from list of dicts:\n",
      "       Name  Age      Major\n",
      "0    Alice   25       Math\n",
      "1      Bob   30    Physics\n",
      "2  Charlie   35  Chemistry\n",
      "3    David   40    Biology\n"
     ]
    }
   ],
   "source": [
    "student_dicts = [\n",
    "    {\"Name\": \"Alice\", \"Age\": 25, \"Major\": \"Math\"},\n",
    "    {\"Name\": \"Bob\", \"Age\": 30, \"Major\": \"Physics\"},\n",
    "    {\"Name\": \"Charlie\", \"Age\": 35, \"Major\": \"Chemistry\"},\n",
    "    {\"Name\": \"David\", \"Age\": 40, \"Major\": \"Biology\"}\n",
    "]\n",
    "students_from_dicts = pd.DataFrame(student_dicts)\n",
    "print(\"Students DataFrame from list of dicts:\\n\", students_from_dicts)"
   ],
   "metadata": {
    "collapsed": false,
    "ExecuteTime": {
     "end_time": "2025-01-05T11:34:47.503463Z",
     "start_time": "2025-01-05T11:34:47.489757Z"
    }
   },
   "id": "36ca42e6982b8d15",
   "execution_count": 47
  },
  {
   "cell_type": "markdown",
   "source": [
    "## 索引Series | Indexing Series\n",
    "\n",
    "我们可以使用标签或位置索引Series。\n",
    "We can index a Series using labels or positions."
   ],
   "metadata": {
    "collapsed": false
   },
   "id": "19686b09ad1b0581"
  },
  {
   "cell_type": "code",
   "outputs": [
    {
     "name": "stdout",
     "output_type": "stream",
     "text": [
      "Fruit at index 'b': banana\n",
      "Fruit at index 2: orange\n"
     ]
    }
   ],
   "source": [
    "print(\"Fruit at index 'b':\", fruits_with_labels[\"b\"])  # 使用标签索引 | Indexing with label\n",
    "print(\"Fruit at index 2:\", fruits[2])  # 使用位置索引 | Indexing with position"
   ],
   "metadata": {
    "collapsed": false,
    "ExecuteTime": {
     "end_time": "2025-01-05T11:34:47.534792Z",
     "start_time": "2025-01-05T11:34:47.521632Z"
    }
   },
   "id": "c9ca364b5778c952",
   "execution_count": 48
  },
  {
   "cell_type": "markdown",
   "source": [
    "我们也可以使用切片获取多个元素。\n",
    "We can also use slicing to get multiple elements."
   ],
   "metadata": {
    "collapsed": false
   },
   "id": "9b7e4b8bc8a58e82"
  },
  {
   "cell_type": "code",
   "outputs": [
    {
     "name": "stdout",
     "output_type": "stream",
     "text": [
      "Fruits from 'b' to 'd':\n",
      " b    banana\n",
      "c    orange\n",
      "d     grape\n",
      "dtype: object\n",
      "Fruits from index 1 to 3:\n",
      " 1    banana\n",
      "2    orange\n",
      "dtype: object\n"
     ]
    }
   ],
   "source": [
    "print(\"Fruits from 'b' to 'd':\\n\", fruits_with_labels[\"b\":\"d\"])  # 使用标签切片 | Slicing with labels\n",
    "print(\"Fruits from index 1 to 3:\\n\", fruits[1:3])  # 使用位置切片 | Slicing with positions"
   ],
   "metadata": {
    "collapsed": false,
    "ExecuteTime": {
     "end_time": "2025-01-05T11:34:47.550153Z",
     "start_time": "2025-01-05T11:34:47.537420Z"
    }
   },
   "id": "6bfa1ffd5acc7560",
   "execution_count": 49
  },
  {
   "cell_type": "markdown",
   "source": [
    "\n",
    "## 索引DataFrame | Indexing DataFrame\n",
    "\n",
    "我们可以使用列名来索引DataFrame的列。\n",
    "We can index DataFrame columns using column names."
   ],
   "metadata": {
    "collapsed": false
   },
   "id": "ebeb0be16b7070da"
  },
  {
   "cell_type": "code",
   "outputs": [
    {
     "name": "stdout",
     "output_type": "stream",
     "text": [
      "Names column:\n",
      " 0      Alice\n",
      "1        Bob\n",
      "2    Charlie\n",
      "3      David\n",
      "Name: Name, dtype: object\n",
      "Student at index 1:\n",
      " Name         Bob\n",
      "Age           30\n",
      "Major    Physics\n",
      "Name: 1, dtype: object\n",
      "Student at index 2:\n",
      " Name       Charlie\n",
      "Age             35\n",
      "Major    Chemistry\n",
      "Name: 2, dtype: object\n",
      "Age of Bob: 30\n",
      "Major of Charlie: Chemistry\n",
      "Students older than 30:\n",
      "       Name  Age      Major\n",
      "2  Charlie   35  Chemistry\n",
      "3    David   40    Biology\n"
     ]
    }
   ],
   "source": [
    "print(\"Names column:\\n\", students_df[\"Name\"])\n",
    "\n",
    "# 我们可以使用loc和iloc来索引DataFrame的行。loc使用标签,iloc使用位置。\n",
    "# We can index DataFrame rows using loc and iloc. loc uses labels, while iloc uses positions.\n",
    "print(\"Student at index 1:\\n\", students_df.loc[1])  # 使用loc和标签索引 | Indexing with loc and label\n",
    "print(\"Student at index 2:\\n\", students_df.iloc[2])  # 使用iloc和位置索引 | Indexing with iloc and position\n",
    "\n",
    "# 我们可以同时索引行和列。\n",
    "# We can index rows and columns simultaneously.\n",
    "print(\"Age of Bob:\", students_df.loc[1, \"Age\"])  # 使用loc和标签索引 | Indexing with loc and labels\n",
    "print(\"Major of Charlie:\", students_df.iloc[2, 2])  # 使用iloc和位置索引 | Indexing with iloc and positions\n",
    "\n",
    "# 我们也可以使用布尔索引来筛选数据。\n",
    "# We can also use boolean indexing to filter data.\n",
    "print(\"Students older than 30:\\n\", students_df[students_df[\"Age\"] > 30])"
   ],
   "metadata": {
    "collapsed": false,
    "ExecuteTime": {
     "end_time": "2025-01-05T11:34:47.565307Z",
     "start_time": "2025-01-05T11:34:47.552647Z"
    }
   },
   "id": "fb1b24fbf7330285",
   "execution_count": 50
  },
  {
   "cell_type": "markdown",
   "source": [
    "## 读取外部数据 | Reading External Data\n",
    "\n",
    "Pandas可以读取各种格式的外部数据,如CSV、Excel、SQL等。\n",
    "Pandas can read various formats of external data, such as CSV, Excel, SQL, etc."
   ],
   "metadata": {
    "collapsed": false
   },
   "id": "9aa9c04b61e5ef5d"
  },
  {
   "cell_type": "code",
   "outputs": [
    {
     "name": "stdout",
     "output_type": "stream",
     "text": [
      "Data from CSV:\n",
      "    序号  分数    姓名\n",
      "0   1  90    Ma\n",
      "1   2  57  Chan\n",
      "2   3  68  Zhou\n",
      "3   4  90    Du\n",
      "4   5  88   Xie\n",
      "5   6  90   Amy\n",
      "Data from Excel:\n",
      "    序号  分数    姓名\n",
      "0   1  90    Ma\n",
      "1   2  57  Chan\n",
      "2   3  68  Zhou\n",
      "3   4  90    Du\n",
      "4   5  88   Xie\n",
      "5   6  90   Amy\n"
     ]
    }
   ],
   "source": [
    "# 读取CSV文件 | Reading CSV file\n",
    "csv_data = pd.read_csv(\"working_data/data.csv\")\n",
    "print(\"Data from CSV:\\n\", csv_data)\n",
    "\n",
    "# 读取Excel文件 | Reading Excel file\n",
    "excel_data = pd.read_excel(\"working_data/data.xlsx\", sheet_name=\"Sheet1\")\n",
    "print(\"Data from Excel:\\n\", excel_data)"
   ],
   "metadata": {
    "collapsed": false,
    "ExecuteTime": {
     "end_time": "2025-01-05T11:34:47.581287Z",
     "start_time": "2025-01-05T11:34:47.566418Z"
    }
   },
   "id": "8c1ff0dc352870f1",
   "execution_count": 51
  },
  {
   "cell_type": "markdown",
   "source": [],
   "metadata": {
    "collapsed": false
   },
   "id": "f3422664c80519d1"
  },
  {
   "cell_type": "markdown",
   "source": [
    "##  数据编辑 | Data Editing\n",
    "\n",
    "Pandas提供了强大的数据编辑功能,可以方便地进行增、删、查、改等操作。\n",
    "Pandas provides powerful data editing capabilities, allowing for easy addition, deletion, querying, and modification operations.\n",
    "\n",
    "我们将深入探讨如何使用Pandas进行数据编辑。\n",
    " we will dive into how to use Pandas for data editing."
   ],
   "metadata": {
    "collapsed": false
   },
   "id": "bbe33fdfd2eb2f84"
  },
  {
   "cell_type": "code",
   "outputs": [
    {
     "name": "stdout",
     "output_type": "stream",
     "text": [
      "Original DataFrame:\n",
      "   姓名  出生年月 id  成绩\n",
      "0  张三  1988  2  76\n",
      "1  李四  2013  3  78\n",
      "2  王五  2014  4  86\n",
      "3  狗六  1988  5  90\n"
     ]
    }
   ],
   "source": [
    "\n",
    "# 创建示例DataFrame | Creating a sample DataFrame\n",
    "dict1 = {\"姓名\": '张三', \"出生年月\": '1988', \"id\": '2', \"成绩\": 76}\n",
    "dict2 = {\"姓名\": '李四', \"出生年月\": '2013', \"id\": '3', \"成绩\": 78}\n",
    "dict3 = {\"姓名\": '王五', \"出生年月\": '2014', \"id\": '4', \"成绩\": 86}\n",
    "dict4 = {\"姓名\": '狗六', \"出生年月\": '1988', \"id\": '5', \"成绩\": 90}\n",
    "list_dict = [dict1, dict2, dict3, dict4]\n",
    "df = pd.DataFrame.from_dict(list_dict)\n",
    "print(\"Original DataFrame:\")\n",
    "print(df)"
   ],
   "metadata": {
    "collapsed": false,
    "ExecuteTime": {
     "end_time": "2025-01-05T11:34:47.628443Z",
     "start_time": "2025-01-05T11:34:47.612107Z"
    }
   },
   "id": "6faf39a274873daf",
   "execution_count": 52
  },
  {
   "cell_type": "markdown",
   "source": [
    "### 增: 添加数据 | Addition: Adding Data"
   ],
   "metadata": {
    "collapsed": false
   },
   "id": "bf68e33ad01bdaad"
  },
  {
   "cell_type": "markdown",
   "source": [
    "我们可以使用insert()方法插入新列。\n",
    "We can use the insert() method to insert a new column."
   ],
   "metadata": {
    "collapsed": false
   },
   "id": "a2cb63491cdd0e64"
  },
  {
   "cell_type": "code",
   "outputs": [
    {
     "name": "stdout",
     "output_type": "stream",
     "text": [
      "\n",
      "After inserting a new column:\n",
      "   姓名 性别  出生年月 id  成绩\n",
      "0  张三  男  1988  2  76\n",
      "1  李四  男  2013  3  78\n",
      "2  王五  男  2014  4  86\n",
      "3  狗六  男  1988  5  90\n"
     ]
    }
   ],
   "source": [
    "df.insert(1, \"性别\", \"男\")\n",
    "print(\"\\nAfter inserting a new column:\")\n",
    "print(df)"
   ],
   "metadata": {
    "collapsed": false,
    "ExecuteTime": {
     "end_time": "2025-01-05T11:34:47.643571Z",
     "start_time": "2025-01-05T11:34:47.629683Z"
    }
   },
   "id": "8e8d18a7377356f3",
   "execution_count": 53
  },
  {
   "cell_type": "markdown",
   "source": [
    "我们可以使用append()方法添加新行。\n",
    "We can use the append() method to add new rows."
   ],
   "metadata": {
    "collapsed": false
   },
   "id": "430f5fa00fdc0dea"
  },
  {
   "cell_type": "code",
   "outputs": [
    {
     "name": "stdout",
     "output_type": "stream",
     "text": [
      "\n",
      "After appending a new row:\n",
      "   姓名   性别  出生年月 id  成绩\n",
      "0  张三    男  1988  2  76\n",
      "1  李四    男  2013  3  78\n",
      "2  王五    男  2014  4  86\n",
      "3  狗六    男  1988  5  90\n",
      "4  赵一  NaN  1988  6  92\n"
     ]
    }
   ],
   "source": [
    "dict5 = {\"姓名\": '赵一', \"出生年月\": '1988', \"id\": '6', \"成绩\": 92}\n",
    "df = df.append(dict5, ignore_index=True)\n",
    "print(\"\\nAfter appending a new row:\")\n",
    "print(df)"
   ],
   "metadata": {
    "collapsed": false,
    "ExecuteTime": {
     "end_time": "2025-01-05T11:34:47.659642Z",
     "start_time": "2025-01-05T11:34:47.645812Z"
    }
   },
   "id": "1f44573d81a68d91",
   "execution_count": 54
  },
  {
   "cell_type": "markdown",
   "source": [
    "我们还可以使用merge()方法合并两个DataFrame。\n",
    "We can also use the merge() method to merge two DataFrames."
   ],
   "metadata": {
    "collapsed": false
   },
   "id": "25ccaf3fed764bb4"
  },
  {
   "cell_type": "code",
   "outputs": [
    {
     "name": "stdout",
     "output_type": "stream",
     "text": [
      "\n",
      "Merging two DataFrames (inner join):\n",
      "  key  lval  rval\n",
      "0   一     1     4\n",
      "1   二     2     5\n"
     ]
    }
   ],
   "source": [
    "df_left = pd.DataFrame({'key': ['一', '二', '四'], 'lval': [1, 2, 3]})\n",
    "df_right = pd.DataFrame({'key': ['一', '二', '三'], 'rval': [4, 5, 6]})\n",
    "print(\"\\nMerging two DataFrames (inner join):\")\n",
    "print(pd.merge(df_left, df_right, on='key', how='inner'))"
   ],
   "metadata": {
    "collapsed": false,
    "ExecuteTime": {
     "end_time": "2025-01-05T11:34:47.675413Z",
     "start_time": "2025-01-05T11:34:47.660737Z"
    }
   },
   "id": "3d926cd48d4967c8",
   "execution_count": 55
  },
  {
   "cell_type": "markdown",
   "source": [
    "### 删: 删除数据 | Deletion: Deleting Data\n",
    "\n",
    "我们可以使用del关键字删除列。\n",
    "We can use the del keyword to delete columns."
   ],
   "metadata": {
    "collapsed": false
   },
   "id": "8a58059722a155b2"
  },
  {
   "cell_type": "code",
   "outputs": [
    {
     "name": "stdout",
     "output_type": "stream",
     "text": [
      "\n",
      "Before deleting a column:\n",
      "   姓名   性别  出生年月 id  成绩\n",
      "0  张三    男  1988  2  76\n",
      "1  李四    男  2013  3  78\n",
      "2  王五    男  2014  4  86\n",
      "3  狗六    男  1988  5  90\n",
      "4  赵一  NaN  1988  6  92\n",
      "After deleting a column:\n",
      "   姓名  出生年月 id  成绩\n",
      "0  张三  1988  2  76\n",
      "1  李四  2013  3  78\n",
      "2  王五  2014  4  86\n",
      "3  狗六  1988  5  90\n",
      "4  赵一  1988  6  92\n"
     ]
    }
   ],
   "source": [
    "print(\"\\nBefore deleting a column:\")\n",
    "print(df)\n",
    "del df[\"性别\"]\n",
    "print(\"After deleting a column:\")\n",
    "print(df)"
   ],
   "metadata": {
    "collapsed": false,
    "ExecuteTime": {
     "end_time": "2025-01-05T11:34:47.723211Z",
     "start_time": "2025-01-05T11:34:47.704093Z"
    }
   },
   "id": "dea53fa65dca5dcd",
   "execution_count": 56
  },
  {
   "cell_type": "markdown",
   "source": [
    "我们可以使用drop()方法删除行或列。\n",
    "We can use the drop() method to delete rows or columns."
   ],
   "metadata": {
    "collapsed": false
   },
   "id": "f2c5fea69f0fdaf5"
  },
  {
   "cell_type": "code",
   "outputs": [
    {
     "name": "stdout",
     "output_type": "stream",
     "text": [
      "\n",
      "Before dropping rows:\n",
      "   姓名  出生年月 id  成绩\n",
      "0  张三  1988  2  76\n",
      "1  李四  2013  3  78\n",
      "2  王五  2014  4  86\n",
      "3  狗六  1988  5  90\n",
      "4  赵一  1988  6  92\n",
      "After dropping rows:\n",
      "   姓名  出生年月 id  成绩\n",
      "1  李四  2013  3  78\n",
      "3  狗六  1988  5  90\n",
      "4  赵一  1988  6  92\n"
     ]
    }
   ],
   "source": [
    "print(\"\\nBefore dropping rows:\")\n",
    "print(df)\n",
    "df = df.drop(index=[0, 2])\n",
    "print(\"After dropping rows:\")\n",
    "print(df)"
   ],
   "metadata": {
    "collapsed": false,
    "ExecuteTime": {
     "end_time": "2025-01-05T11:34:47.739057Z",
     "start_time": "2025-01-05T11:34:47.724352Z"
    }
   },
   "id": "c933358681366473",
   "execution_count": 57
  },
  {
   "cell_type": "markdown",
   "source": [
    "我们可以使用drop_duplicates()方法删除重复行。\n",
    "We can use the drop_duplicates() method to delete duplicate rows."
   ],
   "metadata": {
    "collapsed": false
   },
   "id": "84ce68f5389380d7"
  },
  {
   "cell_type": "code",
   "outputs": [
    {
     "name": "stdout",
     "output_type": "stream",
     "text": [
      "\n",
      "Before dropping duplicates:\n",
      "   姓名  出生年月 id  成绩\n",
      "0  李四  2013  3  78\n",
      "1  狗六  1988  5  90\n",
      "2  赵一  1988  6  92\n",
      "3  王五  1988  6  92\n",
      "After dropping duplicates:\n",
      "   姓名  出生年月 id  成绩\n",
      "0  李四  2013  3  78\n",
      "1  狗六  1988  5  90\n",
      "2  赵一  1988  6  92\n",
      "3  王五  1988  6  92\n"
     ]
    }
   ],
   "source": [
    "dict6 = {\"姓名\": '王五', \"出生年月\": '1988', \"id\": '6', \"成绩\": 92}\n",
    "df = df.append(dict6, ignore_index=True)\n",
    "print(\"\\nBefore dropping duplicates:\")\n",
    "print(df)\n",
    "df = df.drop_duplicates([\"姓名\"], keep='last')\n",
    "print(\"After dropping duplicates:\")\n",
    "print(df)"
   ],
   "metadata": {
    "collapsed": false,
    "ExecuteTime": {
     "end_time": "2025-01-05T11:34:47.755181Z",
     "start_time": "2025-01-05T11:34:47.740216Z"
    }
   },
   "id": "bc31d5170ce8b515",
   "execution_count": 58
  },
  {
   "cell_type": "markdown",
   "source": [
    "### 查: 查询数据 | Query: Querying Data"
   ],
   "metadata": {
    "collapsed": false
   },
   "id": "2f4dac201ac73413"
  },
  {
   "cell_type": "markdown",
   "source": [
    "我们可以使用布尔索引查询满足条件的行。\n",
    "We can use boolean indexing to query rows that satisfy a condition."
   ],
   "metadata": {
    "collapsed": false
   },
   "id": "b01b8e1b85507f6c"
  },
  {
   "cell_type": "code",
   "outputs": [
    {
     "name": "stdout",
     "output_type": "stream",
     "text": [
      "\n",
      "Querying rows where 姓名 is 王五:\n",
      "   姓名  出生年月 id  成绩\n",
      "3  王五  1988  6  92\n"
     ]
    }
   ],
   "source": [
    "print(\"\\nQuerying rows where 姓名 is 王五:\")\n",
    "print(df[df[\"姓名\"] == '王五'])"
   ],
   "metadata": {
    "collapsed": false,
    "ExecuteTime": {
     "end_time": "2025-01-05T11:34:47.787069Z",
     "start_time": "2025-01-05T11:34:47.777313Z"
    }
   },
   "id": "497f0a34d587ca1",
   "execution_count": 59
  },
  {
   "cell_type": "markdown",
   "source": [
    "我们可以使用index属性获取查询结果的索引。\n",
    "We can use the index attribute to get the indexes of the query result."
   ],
   "metadata": {
    "collapsed": false
   },
   "id": "b38f575e03b70139"
  },
  {
   "cell_type": "code",
   "outputs": [
    {
     "name": "stdout",
     "output_type": "stream",
     "text": [
      "Indexes of rows where 姓名 is 王五:\n",
      "Int64Index([3], dtype='int64')\n"
     ]
    }
   ],
   "source": [
    "index1 = df[\"姓名\"] == '王五'\n",
    "print(\"Indexes of rows where 姓名 is 王五:\")\n",
    "print(df[index1].index)"
   ],
   "metadata": {
    "collapsed": false,
    "ExecuteTime": {
     "end_time": "2025-01-05T11:34:47.803105Z",
     "start_time": "2025-01-05T11:34:47.790448Z"
    }
   },
   "id": "83cbdd925183eeb4",
   "execution_count": 60
  },
  {
   "cell_type": "markdown",
   "source": [
    "### 改: 修改数据 | Modification: Modifying Data\n",
    "\n",
    "# 我们可以使用loc[]或iloc[]方法修改特定行和列的值。\n",
    "# We can use the loc[] or iloc[] method to modify values at specific rows and columns."
   ],
   "metadata": {
    "collapsed": false
   },
   "id": "a4324f9f93f2a71e"
  },
  {
   "cell_type": "code",
   "outputs": [
    {
     "name": "stdout",
     "output_type": "stream",
     "text": [
      "\n",
      "Before modification:\n",
      "   姓名  出生年月 id  成绩\n",
      "0  李四  2013  3  78\n",
      "1  狗六  1988  5  90\n",
      "2  赵一  1988  6  92\n",
      "3  王五  1988  6  92\n",
      "After modifying 姓名 of 王五 to 王六:\n",
      "   姓名  出生年月 id  成绩\n",
      "0  李四  2013  3  78\n",
      "1  狗六  1988  5  90\n",
      "2  赵一  1988  6  92\n",
      "3  王六  1988  6  92\n"
     ]
    }
   ],
   "source": [
    "print(\"\\nBefore modification:\")\n",
    "print(df)\n",
    "df.loc[df[\"姓名\"] == '王五', \"姓名\"] = \"王六\"\n",
    "print(\"After modifying 姓名 of 王五 to 王六:\")\n",
    "print(df)"
   ],
   "metadata": {
    "collapsed": false,
    "ExecuteTime": {
     "end_time": "2025-01-05T11:34:47.818851Z",
     "start_time": "2025-01-05T11:34:47.805335Z"
    }
   },
   "id": "553aa54639358423",
   "execution_count": 61
  },
  {
   "cell_type": "markdown",
   "source": [
    "## 数据分析 | Data Analysis\n",
    "\n",
    "在本教程中,我们将深入探讨如何使用Pandas进行数据分析,包括查看DataFrame信息、数据筛选和清洗、统计分析、分组操作以及数据输出。\n",
    "In this tutorial, we will dive into how to use Pandas for data analysis, including viewing DataFrame information, data filtering and cleaning, statistical analysis, grouping operations, and data output."
   ],
   "metadata": {
    "collapsed": false
   },
   "id": "4e4f424c98d61e85"
  },
  {
   "cell_type": "code",
   "outputs": [
    {
     "name": "stdout",
     "output_type": "stream",
     "text": [
      "Original DataFrame:\n",
      "       学号      姓名  年龄 班级     身高 性别\n",
      "0  202401  Zhang   33  a  186.0  男\n",
      "1  202402     Amy  46  a  176.0  男\n",
      "2  202403    Chen  54  a    NaN  男\n",
      "3  202404      Li  33  b  165.0  女\n",
      "4  202405     Bob  34  b    NaN  男\n",
      "5  202406     Ape  39  b  174.0  男\n"
     ]
    }
   ],
   "source": [
    "df = pd.DataFrame({\"学号\":[202401,202402,202403,202404,202405,202406],\n",
    "                   \"姓名\":['Zhang ', 'Amy', 'Chen', 'Li', 'Bob', 'Ape'],\n",
    "                   \"年龄\":[33,46,54,33,34,39],\n",
    "                   \"班级\":['a','a','a','b','b','b'],\n",
    "                   \"身高\":[186,176,np.nan,165,np.nan,174],\n",
    "                   \"性别\":['男','男','男','女','男','男']},\n",
    "                  columns =['学号','姓名','年龄','班级','身高','性别'])\n",
    "print(\"Original DataFrame:\")\n",
    "print(df)"
   ],
   "metadata": {
    "collapsed": false,
    "ExecuteTime": {
     "end_time": "2025-01-05T11:34:47.881232Z",
     "start_time": "2025-01-05T11:34:47.867069Z"
    }
   },
   "id": "ea1f1a6ecf9f2e01",
   "execution_count": 62
  },
  {
   "cell_type": "markdown",
   "source": [
    "### 查看DataFrame信息 | Viewing DataFrame Information\n",
    "\n",
    "我们可以使用各种方法和属性来查看DataFrame的相关信息。\n",
    "We can use various methods and attributes to view information about the DataFrame."
   ],
   "metadata": {
    "collapsed": false
   },
   "id": "42e43b747b373366"
  },
  {
   "cell_type": "code",
   "outputs": [
    {
     "name": "stdout",
     "output_type": "stream",
     "text": [
      "\n",
      "DataFrame info:\n",
      "<class 'pandas.core.frame.DataFrame'>\n",
      "RangeIndex: 6 entries, 0 to 5\n",
      "Data columns (total 6 columns):\n",
      " #   Column  Non-Null Count  Dtype  \n",
      "---  ------  --------------  -----  \n",
      " 0   学号      6 non-null      int64  \n",
      " 1   姓名      6 non-null      object \n",
      " 2   年龄      6 non-null      int64  \n",
      " 3   班级      6 non-null      object \n",
      " 4   身高      4 non-null      float64\n",
      " 5   性别      6 non-null      object \n",
      "dtypes: float64(1), int64(2), object(3)\n",
      "memory usage: 416.0+ bytes\n",
      "None\n",
      "DataFrame shape: (6, 6)\n",
      "DataFrame values:\n",
      " [[202401 'Zhang ' 33 'a' 186.0 '男']\n",
      " [202402 'Amy' 46 'a' 176.0 '男']\n",
      " [202403 'Chen' 54 'a' nan '男']\n",
      " [202404 'Li' 33 'b' 165.0 '女']\n",
      " [202405 'Bob' 34 'b' nan '男']\n",
      " [202406 'Ape' 39 'b' 174.0 '男']]\n",
      "DataFrame columns: ['学号', '姓名', '年龄', '班级', '身高', '性别']\n",
      "DataFrame dtypes:\n",
      " 学号      int64\n",
      "姓名     object\n",
      "年龄      int64\n",
      "班级     object\n",
      "身高    float64\n",
      "性别     object\n",
      "dtype: object\n",
      "Is null:\n",
      "       学号     姓名     年龄     班级     身高     性别\n",
      "0  False  False  False  False  False  False\n",
      "1  False  False  False  False  False  False\n",
      "2  False  False  False  False   True  False\n",
      "3  False  False  False  False  False  False\n",
      "4  False  False  False  False   True  False\n",
      "5  False  False  False  False  False  False\n",
      "Unique values in 姓名: ['Zhang ' 'Amy' 'Chen' 'Li' 'Bob' 'Ape']\n",
      "Head of DataFrame:\n",
      "        学号      姓名  年龄 班级     身高 性别\n",
      "0  202401  Zhang   33  a  186.0  男\n",
      "1  202402     Amy  46  a  176.0  男\n",
      "2  202403    Chen  54  a    NaN  男\n",
      "Tail of DataFrame:\n",
      "        学号   姓名  年龄 班级     身高 性别\n",
      "3  202404   Li  33  b  165.0  女\n",
      "4  202405  Bob  34  b    NaN  男\n",
      "5  202406  Ape  39  b  174.0  男\n"
     ]
    }
   ],
   "source": [
    "print(\"\\nDataFrame info:\")\n",
    "print(df.info())  # 查看DataFrame的全部信息 | View all information of the DataFrame\n",
    "print(\"DataFrame shape:\", df.shape)  # 查看DataFrame的维度 | View the dimensions of the DataFrame\n",
    "print(\"DataFrame values:\\n\", df.values)  # 查看DataFrame的全部值 | View all values of the DataFrame\n",
    "print(\"DataFrame columns:\", df.columns.tolist())  # 查看DataFrame的全部列名 | View all column names of the DataFrame\n",
    "print(\"DataFrame dtypes:\\n\", df.dtypes)  # 查看所有列的数据格式 | View the data types of all columns\n",
    "print(\"Is null:\\n\", df.isnull())  # 查看各个位置是否为空 | Check if each position is null\n",
    "print(\"Unique values in 姓名:\", df[\"姓名\"].unique())  # 查看某列的不重复值 | View unique values in a column\n",
    "print(\"Head of DataFrame:\\n\", df.head(3))  # 查看前几行数据 | View the first few rows of data\n",
    "print(\"Tail of DataFrame:\\n\", df.tail(3))  # 查看后几行数据 | View the last few rows of data"
   ],
   "metadata": {
    "collapsed": false,
    "ExecuteTime": {
     "end_time": "2025-01-05T11:34:47.896136Z",
     "start_time": "2025-01-05T11:34:47.882359Z"
    }
   },
   "id": "ba7f34fc1a46039c",
   "execution_count": 63
  },
  {
   "cell_type": "markdown",
   "source": [
    "### 数据筛选和清洗 | Data Filtering and Cleaning\n",
    "\n",
    "我们可以使用各种方法对数据进行筛选和清洗,包括填充空值、删除空值、清除空格、更改数据类型和列名等。\n",
    "We can use various methods to filter and clean the data, including filling null values, deleting null values, removing spaces, changing data types and column names, etc."
   ],
   "metadata": {
    "collapsed": false
   },
   "id": "2bde1d8833eb110c"
  },
  {
   "cell_type": "code",
   "outputs": [
    {
     "name": "stdout",
     "output_type": "stream",
     "text": [
      "\n",
      "Fill null values with 0:\n",
      "       学号      姓名  年龄 班级     身高 性别\n",
      "0  202401  Zhang   33  a  186.0  男\n",
      "1  202402     Amy  46  a  176.0  男\n",
      "2  202403    Chen  54  a    0.0  男\n",
      "3  202404      Li  33  b  165.0  女\n",
      "4  202405     Bob  34  b    0.0  男\n",
      "5  202406     Ape  39  b  174.0  男\n",
      "Delete rows with null values:\n",
      "       学号      姓名  年龄 班级     身高 性别\n",
      "0  202401  Zhang   33  a  186.0  男\n",
      "1  202402     Amy  46  a  176.0  男\n",
      "3  202404      Li  33  b  165.0  女\n",
      "5  202406     Ape  39  b  174.0  男\n"
     ]
    }
   ],
   "source": [
    "print(\"\\nFill null values with 0:\")\n",
    "print(df.fillna(0))\n",
    "print(\"Delete rows with null values:\")\n",
    "print(df.dropna())"
   ],
   "metadata": {
    "collapsed": false,
    "ExecuteTime": {
     "end_time": "2025-01-05T11:34:47.911971Z",
     "start_time": "2025-01-05T11:34:47.897274Z"
    }
   },
   "id": "363e7ee68c39f045",
   "execution_count": 64
  },
  {
   "cell_type": "code",
   "outputs": [
    {
     "name": "stdout",
     "output_type": "stream",
     "text": [
      "Strip spaces in 姓名:\n",
      "       学号     姓名  年龄 班级     身高 性别\n",
      "0  202401  Zhang  33  a  186.0  男\n",
      "1  202402    Amy  46  a  176.0  男\n",
      "2  202403   Chen  54  a    NaN  男\n",
      "3  202404     Li  33  b  165.0  女\n",
      "4  202405    Bob  34  b    NaN  男\n",
      "5  202406    Ape  39  b  174.0  男\n"
     ]
    }
   ],
   "source": [
    "print(\"Strip spaces in 姓名:\")\n",
    "df['姓名'] = df['姓名'].str.strip()\n",
    "print(df)"
   ],
   "metadata": {
    "collapsed": false,
    "ExecuteTime": {
     "end_time": "2025-01-05T11:34:47.927324Z",
     "start_time": "2025-01-05T11:34:47.913109Z"
    }
   },
   "id": "d89c3dc9191f9834",
   "execution_count": 65
  },
  {
   "cell_type": "code",
   "outputs": [
    {
     "name": "stdout",
     "output_type": "stream",
     "text": [
      "Change data type of 身高:\n",
      "学号      int64\n",
      "姓名     object\n",
      "年龄      int64\n",
      "班级     object\n",
      "身高    float64\n",
      "性别     object\n",
      "dtype: object\n",
      "Rename column 班级 to 所在班级:\n"
     ]
    }
   ],
   "source": [
    "print(\"Change data type of 身高:\")\n",
    "df['身高'] = df['身高'].astype('float')\n",
    "print(df.dtypes)\n",
    "print(\"Rename column 班级 to 所在班级:\")"
   ],
   "metadata": {
    "collapsed": false,
    "ExecuteTime": {
     "end_time": "2025-01-05T11:34:47.974084Z",
     "start_time": "2025-01-05T11:34:47.957405Z"
    }
   },
   "id": "5ba50e39b9d5d30d",
   "execution_count": 66
  },
  {
   "cell_type": "code",
   "outputs": [
    {
     "name": "stdout",
     "output_type": "stream",
     "text": [
      "       学号     姓名  年龄 所在班级     身高 性别\n",
      "0  202401  Zhang  33    a  186.0  男\n",
      "1  202402    Amy  46    a  176.0  男\n",
      "2  202403   Chen  54    a    NaN  男\n",
      "3  202404     Li  33    b  165.0  女\n",
      "4  202405    Bob  34    b    NaN  男\n",
      "5  202406    Ape  39    b  174.0  男\n"
     ]
    }
   ],
   "source": [
    "df = df.rename(columns={'班级': '所在班级'})\n",
    "print(df)"
   ],
   "metadata": {
    "collapsed": false,
    "ExecuteTime": {
     "end_time": "2025-01-05T11:34:47.990112Z",
     "start_time": "2025-01-05T11:34:47.975232Z"
    }
   },
   "id": "67f75d79123010cd",
   "execution_count": 67
  },
  {
   "cell_type": "code",
   "outputs": [
    {
     "name": "stdout",
     "output_type": "stream",
     "text": [
      "Replace values in 姓名:\n",
      "       学号     姓名  年龄 所在班级     身高 性别\n",
      "0  202401  Zhang  33    a  186.0  男\n",
      "1  202402    Amy  46    a  176.0  男\n",
      "2  202403   Chen  54    a    NaN  男\n",
      "3  202404     Li  33    b  165.0  女\n",
      "4  202405    Bob  34    b    NaN  男\n",
      "5  202406    Ape  39    b  174.0  男\n"
     ]
    }
   ],
   "source": [
    "print(\"Replace values in 姓名:\")\n",
    "df['姓名'] = df['姓名'].replace('钱二', '钱大')\n",
    "print(df)"
   ],
   "metadata": {
    "collapsed": false,
    "ExecuteTime": {
     "end_time": "2025-01-05T11:34:48.036769Z",
     "start_time": "2025-01-05T11:34:48.024046Z"
    }
   },
   "id": "883fa9c7f296affa",
   "execution_count": 68
  },
  {
   "cell_type": "code",
   "outputs": [
    {
     "name": "stdout",
     "output_type": "stream",
     "text": [
      "Add a new column based on conditions:\n",
      "       学号     姓名  年龄 所在班级     身高 性别 group\n",
      "0  202401  Zhang  33    a  186.0  男  high\n",
      "1  202402    Amy  46    a  176.0  男  high\n",
      "2  202403   Chen  54    a    NaN  男   low\n",
      "3  202404     Li  33    b  165.0  女   low\n",
      "4  202405    Bob  34    b    NaN  男   low\n",
      "5  202406    Ape  39    b  174.0  男   low\n"
     ]
    }
   ],
   "source": [
    "print(\"Add a new column based on conditions:\")\n",
    "df['group'] = np.where(df['身高'] > 175, 'high', 'low')\n",
    "print(df)"
   ],
   "metadata": {
    "collapsed": false,
    "ExecuteTime": {
     "end_time": "2025-01-05T11:34:48.052684Z",
     "start_time": "2025-01-05T11:34:48.040113Z"
    }
   },
   "id": "e85a19a44a68f4ff",
   "execution_count": 69
  },
  {
   "cell_type": "code",
   "outputs": [
    {
     "name": "stdout",
     "output_type": "stream",
     "text": [
      "Filter rows based on conditions:\n",
      "Empty DataFrame\n",
      "Columns: [学号, 姓名, 年龄, 所在班级, 身高, 性别, group]\n",
      "Index: []\n",
      "Modify values based on conditions:\n",
      "       学号     姓名  年龄 所在班级     身高 性别 group\n",
      "0  202401  Zhang  33    a  186.0  男  high\n",
      "1  202402    Amy  40    a  176.0  男  high\n",
      "2  202403   Chen  40    a    NaN  男   low\n",
      "3  202404     Li  33    b  165.0  女   low\n",
      "4  202405    Bob  34    b    NaN  男   low\n",
      "5  202406    Ape  39    b  174.0  男   low\n"
     ]
    }
   ],
   "source": [
    "print(\"Filter rows based on conditions:\")\n",
    "print(df[df['姓名'].isin(['赵一', '孙六'])])\n",
    "print(\"Modify values based on conditions:\")\n",
    "df.loc[df['年龄'] > 40, '年龄'] = 40\n",
    "print(df)"
   ],
   "metadata": {
    "collapsed": false,
    "ExecuteTime": {
     "end_time": "2025-01-05T11:34:48.068617Z",
     "start_time": "2025-01-05T11:34:48.054947Z"
    }
   },
   "id": "24ad612aa194dd15",
   "execution_count": 70
  },
  {
   "cell_type": "markdown",
   "source": [
    "### 统计分析 | Statistical Analysis\n",
    "\n",
    "我们可以使用各种统计函数对数据进行描述性统计和推断性统计。\n",
    "We can use various statistical functions to perform descriptive and inferential statistics on the data."
   ],
   "metadata": {
    "collapsed": false
   },
   "id": "253c1110d16b5d8"
  },
  {
   "cell_type": "code",
   "outputs": [
    {
     "name": "stdout",
     "output_type": "stream",
     "text": [
      "\n",
      "Descriptive statistics:\n",
      "                  学号         年龄          身高\n",
      "count       6.000000   6.000000    4.000000\n",
      "mean   202403.500000  36.500000  175.250000\n",
      "std         1.870829   3.507136    8.616844\n",
      "min    202401.000000  33.000000  165.000000\n",
      "25%    202402.250000  33.250000  171.750000\n",
      "50%    202403.500000  36.500000  175.000000\n",
      "75%    202404.750000  39.750000  178.500000\n",
      "max    202406.000000  40.000000  186.000000\n",
      "Mean of 年龄: 36.5\n",
      "Standard deviation of 身高: 8.616843969807043\n",
      "Correlation matrix:\n",
      "          学号        年龄        身高\n",
      "学号  1.000000  0.076205 -0.632416\n",
      "年龄  0.076205  1.000000 -0.023057\n",
      "身高 -0.632416 -0.023057  1.000000\n",
      "Covariance between 学号 and 年龄: 0.5\n"
     ]
    }
   ],
   "source": [
    "print(\"\\nDescriptive statistics:\")\n",
    "print(df.describe())\n",
    "print(\"Mean of 年龄:\", df['年龄'].mean())  # 计算平均值 | Calculate mean\n",
    "print(\"Standard deviation of 身高:\", df['身高'].std())  # 计算标准差 | Calculate standard deviation\n",
    "print(\"Correlation matrix:\")\n",
    "print(df.corr())  # 计算相关系数矩阵 | Calculate correlation matrix\n",
    "print(\"Covariance between 学号 and 年龄:\", df['学号'].cov(df['年龄']))  # 计算协方差 | Calculate covariance"
   ],
   "metadata": {
    "collapsed": false,
    "ExecuteTime": {
     "end_time": "2025-01-05T11:34:48.084481Z",
     "start_time": "2025-01-05T11:34:48.070812Z"
    }
   },
   "id": "e69fa82c8f9a2d99",
   "execution_count": 71
  },
  {
   "cell_type": "markdown",
   "source": [
    "### 分组操作 | Grouping Operations\n",
    "\n",
    "我们可以使用groupby函数对数据进行分组,然后对每个组进行统计分析。\n",
    "We can use the groupby function to group the data, and then perform statistical analysis on each group."
   ],
   "metadata": {
    "collapsed": false
   },
   "id": "a66b03e792f082f9"
  },
  {
   "cell_type": "code",
   "outputs": [
    {
     "name": "stdout",
     "output_type": "stream",
     "text": [
      "\n",
      "Group by 性别 and calculate mean:\n",
      "          学号    年龄          身高\n",
      "性别                            \n",
      "女   202404.0  33.0  165.000000\n",
      "男   202403.4  37.2  178.666667\n",
      "Group by 性别 and 所在班级, and calculate sum:\n",
      "             学号   年龄     身高\n",
      "性别 所在班级                    \n",
      "女  b     202404   33  165.0\n",
      "男  a     607206  113  362.0\n",
      "   b     404811   73  174.0\n"
     ]
    }
   ],
   "source": [
    "print(\"\\nGroup by 性别 and calculate mean:\")\n",
    "print(df.groupby('性别').mean())\n",
    "print(\"Group by 性别 and 所在班级, and calculate sum:\")\n",
    "print(df.groupby(['性别', '所在班级']).sum())"
   ],
   "metadata": {
    "collapsed": false,
    "ExecuteTime": {
     "end_time": "2025-01-05T11:34:48.100234Z",
     "start_time": "2025-01-05T11:34:48.089819Z"
    }
   },
   "id": "5b381690b3175304",
   "execution_count": 72
  },
  {
   "cell_type": "markdown",
   "source": [
    "### 数据输出 | Data Output\n",
    "\n",
    "我们可以使用to_excel和to_csv函数将DataFrame输出为Excel和CSV文件。\n",
    "We can use the to_excel and to_csv functions to output the DataFrame as Excel and CSV files."
   ],
   "metadata": {
    "collapsed": false
   },
   "id": "c5e54d9d80277072"
  },
  {
   "cell_type": "code",
   "outputs": [
    {
     "name": "stdout",
     "output_type": "stream",
     "text": [
      "\n",
      "Export DataFrame to Excel:\n",
      "Export DataFrame to CSV:\n"
     ]
    }
   ],
   "source": [
    "print(\"\\nExport DataFrame to Excel:\")\n",
    "df.to_excel('working_data/output.xlsx', index=False)\n",
    "print(\"Export DataFrame to CSV:\")\n",
    "df.to_csv('working_data/output.csv', index=False)"
   ],
   "metadata": {
    "collapsed": false,
    "ExecuteTime": {
     "end_time": "2025-01-05T11:34:48.131130Z",
     "start_time": "2025-01-05T11:34:48.102127Z"
    }
   },
   "id": "c3c20d36fdf32a18",
   "execution_count": 73
  }
 ],
 "metadata": {
  "kernelspec": {
   "display_name": "Python 3",
   "language": "python",
   "name": "python3"
  },
  "language_info": {
   "codemirror_mode": {
    "name": "ipython",
    "version": 2
   },
   "file_extension": ".py",
   "mimetype": "text/x-python",
   "name": "python",
   "nbconvert_exporter": "python",
   "pygments_lexer": "ipython2",
   "version": "2.7.6"
  }
 },
 "nbformat": 4,
 "nbformat_minor": 5
}
