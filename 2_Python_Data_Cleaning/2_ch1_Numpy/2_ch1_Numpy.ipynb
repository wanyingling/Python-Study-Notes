{
 "cells": [
  {
   "cell_type": "markdown",
   "source": [
    "# NumPy教程 | NumPy Tutorial\n",
    "\n",
    "作者: 宛莹\n",
    "日期: 2025年1月 \n",
    "\n",
    "Author: Wanying\n",
    "Date: January 2025"
   ],
   "metadata": {
    "collapsed": false
   },
   "id": "f3a6e6295e940c06"
  },
  {
   "cell_type": "code",
   "execution_count": 2,
   "id": "4a359cafe532aace",
   "metadata": {
    "ExecuteTime": {
     "end_time": "2025-01-05T10:36:54.662990Z",
     "start_time": "2025-01-05T10:36:53.929298Z"
    }
   },
   "outputs": [],
   "source": [
    "# 导入NumPy模块 | Import the NumPy module\n",
    "import numpy as np"
   ]
  },
  {
   "cell_type": "markdown",
   "source": [
    "## 什么是NumPy? | What is NumPy?\n",
    "\n",
    "- NumPy是Python进行科学计算的基础包。它是一个Python库,提供多维数组对象,各种派生对象(如掩码数组和矩阵),以及用于数组快速操作的各种API,有包括数学、逻辑、形状操作、排序、选择、输入输出、离散傅立叶变换、基本线性代数、基本统计运算和随机模拟等等。\n",
    "- NumPy is the fundamental package for scientific computing in Python. It is a Python library that provides a multidimensional array object, various derived objects (such as masked arrays and matrices), and an assortment of routines for fast operations on arrays, including mathematical, logical, shape manipulation, sorting, selecting, I/O, discrete Fourier transforms, basic linear algebra, basic statistical operations, random simulation and much more."
   ],
   "metadata": {
    "collapsed": false
   },
   "id": "7668d7546505e6f9"
  },
  {
   "cell_type": "markdown",
   "id": "b34ab8910dbd56d3",
   "metadata": {},
   "source": [
    "## 数组对象 | Array Objects\n",
    "- NumPy中的核心对象是同构多维数组(homogeneous multidimensional array)。它是一个元素表(通常是数字),所有类型都相同,由非负整数元组索引。 在NumPy中维度称为轴(axes)。\n",
    "- The core object in NumPy is the homogeneous multidimensional array. It is a table of elements (usually numbers), all of the same type, indexed by a tuple of non-negative integers. In NumPy dimensions are called axes.\n"
   ]
  },
  {
   "cell_type": "code",
   "execution_count": 74,
   "id": "702559be299ae09d",
   "metadata": {
    "ExecuteTime": {
     "end_time": "2025-01-05T08:36:50.276455Z",
     "start_time": "2025-01-05T08:36:50.262725Z"
    }
   },
   "outputs": [
    {
     "name": "stdout",
     "output_type": "stream",
     "text": [
      "[5 2 3]\n",
      "<class 'numpy.ndarray'>\n",
      "(3,)\n",
      "5 2 3\n",
      "[0 2 3]\n"
     ]
    }
   ],
   "source": [
    "# 创建一维数组 | Create a 1-D array\n",
    "x = np.array([5, 2, 3])\n",
    "print(x)\n",
    "print(type(x))\n",
    "print(x.shape)\n",
    "print(x[0], x[1], x[2])\n",
    "x[0] = 0\n",
    "print(x)"
   ]
  },
  {
   "cell_type": "code",
   "execution_count": 75,
   "id": "4188323bde142f84",
   "metadata": {
    "ExecuteTime": {
     "end_time": "2025-01-05T08:36:50.292260Z",
     "start_time": "2025-01-05T08:36:50.277725Z"
    }
   },
   "outputs": [
    {
     "name": "stdout",
     "output_type": "stream",
     "text": [
      "[[5 2 3]\n",
      " [3 0 4]]\n",
      "(2, 3)\n",
      "5 2 3\n"
     ]
    }
   ],
   "source": [
    "# 创建二维数组 | Create a 2-D array \n",
    "b = np.array([[5,2,3],[3,0,4]]) \n",
    "print(b)\n",
    "print(b.shape)\n",
    "print(b[0, 0], b[0, 1], b[1, 0])"
   ]
  },
  {
   "cell_type": "code",
   "execution_count": 76,
   "id": "a1bb8ff5c914d5f5",
   "metadata": {
    "ExecuteTime": {
     "end_time": "2025-01-05T08:36:50.308044Z",
     "start_time": "2025-01-05T08:36:50.303040Z"
    }
   },
   "outputs": [
    {
     "name": "stdout",
     "output_type": "stream",
     "text": [
      "[[5]\n",
      " [3]\n",
      " [2]\n",
      " [0]]\n",
      "(4, 1)\n",
      "[5] [3] [0]\n"
     ]
    }
   ],
   "source": [
    "# 创建三维数组 | Create a 3-D array \n",
    "z = np.array([[5],[3],[2],[0]]) \n",
    "print(z)\n",
    "print(z.shape)\n",
    "print(z[0], z[1], z[3])"
   ]
  },
  {
   "cell_type": "markdown",
   "id": "ce9320a9311fa852",
   "metadata": {},
   "source": [
    "\n",
    "## 创建数组的函数 | Array Creation Functions\n",
    "\n",
    "There are several ways to create arrays in NumPy:\n",
    "- `np.array()`: 从Python列表或元组创建数组。Created an array from a regular Python list or tuple\n",
    "- `np.zeros()`: 创建指定形状和类型的数组,并用0填充。Create an array filled with zeros \n",
    "- `np.ones()`: 创建指定形状和类型的数组,并用1填充。Create an array filled with ones\n",
    "- `np.empty()`: 创建指定形状和类型的数组,不初始化元素。Create an array, but leave its content uninitialized\n",
    "- `np.arange()`: 创建数字序列。Create an array with evenly spaced values\n",
    "- `np.linspace()`: 创建指定数量的数组,并在指定的开始值和结束值之间平均分布。Create an array with evenly spaced values over a specified interval"
   ]
  },
  {
   "cell_type": "code",
   "execution_count": 77,
   "id": "5fbfa56203ae69cb",
   "metadata": {
    "ExecuteTime": {
     "end_time": "2025-01-05T08:36:50.354987Z",
     "start_time": "2025-01-05T08:36:50.337860Z"
    }
   },
   "outputs": [
    {
     "name": "stdout",
     "output_type": "stream",
     "text": [
      "[[0. 0. 0. 0.]\n",
      " [0. 0. 0. 0.]\n",
      " [0. 0. 0. 0.]]\n",
      "[[[1 1 1 1]\n",
      "  [1 1 1 1]\n",
      "  [1 1 1 1]]\n",
      "\n",
      " [[1 1 1 1]\n",
      "  [1 1 1 1]\n",
      "  [1 1 1 1]]]\n",
      "[[1.39069238e-309 1.39069238e-309 1.39069238e-309]\n",
      " [1.39069238e-309 1.39069238e-309 1.39069238e-309]]\n",
      "[10 15 20 25]\n",
      "[0.   0.25 0.5  0.75 1.   1.25 1.5  1.75 2.  ]\n"
     ]
    }
   ],
   "source": [
    "# 创建数组的函数 | Array Creation Functions\n",
    "print(np.zeros((3, 4)))\n",
    "print(np.ones((2, 3, 4), dtype=np.int16))\n",
    "print(np.empty((2, 3))) #  创建的数组元素的值是未初始化的随机值,取决于内存的状态。这个函数通常用在数组的大小已知,但是元素的值无关紧要的情况下,可以节省初始化时间。\n",
    "print(np.arange(10, 30, 5)) # 这里从 10 开始,到 30 结束(不包括30),步长为 5。\n",
    "print(np.linspace(0, 2, 9)) # 函数有三个参数:起始值,终止值(包含)和生成的样本数。"
   ]
  },
  {
   "cell_type": "markdown",
   "id": "d75f78f57709e2d4",
   "metadata": {},
   "source": [
    "## 基本操作 | Basic Operations\n",
    "\n",
    "数组上的算术运算符会应用到 元素级别 | Arithmetic operators on arrays apply elementwise."
   ]
  },
  {
   "cell_type": "code",
   "execution_count": 78,
   "id": "779e0542c5886ca",
   "metadata": {
    "ExecuteTime": {
     "end_time": "2025-01-05T08:36:50.369764Z",
     "start_time": "2025-01-05T08:36:50.357194Z"
    }
   },
   "outputs": [
    {
     "name": "stdout",
     "output_type": "stream",
     "text": [
      "[0 1 2 3]\n",
      "[20 29 38 47]\n",
      "[0 1 4 9]\n",
      "[ 9.12945251 -9.88031624  7.4511316  -2.62374854]\n",
      "[ True  True False False]\n"
     ]
    }
   ],
   "source": [
    "a = np.array([20,30,40,50])\n",
    "b = np.arange(4) # 当只提供一个参数时,np.arange() 将其解释为序列的终止值(不包括在内),并默认从 0 开始,步长为 1\n",
    "print(b)\n",
    "c = a - b\n",
    "print(c)\n",
    "print(b**2)\n",
    "print(10*np.sin(a))\n",
    "print(a < 35)"
   ]
  },
  {
   "cell_type": "markdown",
   "id": "b84f37c9438998f4",
   "metadata": {},
   "source": [
    "NumPy中的乘积运算符`*`在数组中逐元素运算。 矩阵乘积可以使用`@`运算符或`dot()`函数执行:\n",
    "The product operator `*` operates elementwise in NumPy arrays. The matrix product can be performed using the `@` operator or the `dot()` function:  "
   ]
  },
  {
   "cell_type": "code",
   "execution_count": 79,
   "id": "4a35cdafc177423e",
   "metadata": {
    "ExecuteTime": {
     "end_time": "2025-01-05T08:36:50.385636Z",
     "start_time": "2025-01-05T08:36:50.370897Z"
    }
   },
   "outputs": [
    {
     "name": "stdout",
     "output_type": "stream",
     "text": [
      "[[1 1]\n",
      " [0 1]]\n",
      "[[2 0]\n",
      " [3 4]]\n",
      "[[2 0]\n",
      " [0 4]]\n",
      "[[5 4]\n",
      " [3 4]]\n",
      "[[5 4]\n",
      " [3 4]]\n"
     ]
    }
   ],
   "source": [
    "A = np.array([[1,1], [0,1]])\n",
    "B = np.array([[2,0], [3,4]])\n",
    "print(A)\n",
    "print(B)\n",
    "print(A * B)\n",
    "print(A @ B)\n",
    "print(A.dot(B))"
   ]
  },
  {
   "cell_type": "markdown",
   "id": "cfb7bdcca4731bee",
   "metadata": {},
   "source": [
    "有些操作(例如 `+=` 和 `*=`)会更直接更改被操作的矩阵数组而不会创建新矩阵数组.\n",
    "Some operations, such as `+=` and `*=`, act in place to modify an existing array rather than create a new one."
   ]
  },
  {
   "cell_type": "code",
   "execution_count": 80,
   "id": "67c5a5879746e2de",
   "metadata": {
    "ExecuteTime": {
     "end_time": "2025-01-05T08:36:50.433723Z",
     "start_time": "2025-01-05T08:36:50.418798Z"
    }
   },
   "outputs": [
    {
     "name": "stdout",
     "output_type": "stream",
     "text": [
      "[[1 1 1]\n",
      " [1 1 1]]\n",
      "[[0.89402767 0.121229   0.66474042]\n",
      " [0.20429678 0.60461972 0.20410285]]\n",
      "[[3 3 3]\n",
      " [3 3 3]]\n",
      "[[3.89402767 3.121229   3.66474042]\n",
      " [3.20429678 3.60461972 3.20410285]]\n"
     ]
    }
   ],
   "source": [
    "a = np.ones((2,3), dtype=int)\n",
    "print(a)\n",
    "b = np.random.random((2,3))\n",
    "print(b)\n",
    "a *= 3\n",
    "print(a)\n",
    "b += a\n",
    "print(b)"
   ]
  },
  {
   "cell_type": "markdown",
   "id": "34a7e9410391e2b3",
   "metadata": {},
   "source": [
    "许多一元操作, 例如计算数组中所有元素的总和, 都是作为`ndarray`类的方法实现的。\n",
    "Many unary operations, such as computing the sum of all the elements in the array, are implemented as methods of the `ndarray` class."
   ]
  },
  {
   "cell_type": "code",
   "execution_count": 81,
   "id": "f521b660bb2fc223",
   "metadata": {
    "ExecuteTime": {
     "end_time": "2025-01-05T08:36:50.464528Z",
     "start_time": "2025-01-05T08:36:50.450862Z"
    }
   },
   "outputs": [
    {
     "name": "stdout",
     "output_type": "stream",
     "text": [
      "[[0.36999814 0.07868103 0.18486051]\n",
      " [0.1669022  0.62037209 0.33709059]]\n",
      "1.757904556566467\n",
      "0.07868102564452628\n",
      "0.6203720930930913\n"
     ]
    }
   ],
   "source": [
    "a = np.random.random((2,3))\n",
    "print(a)\n",
    "print(a.sum())\n",
    "print(a.min())\n",
    "print(a.max())"
   ]
  },
  {
   "cell_type": "markdown",
   "id": "e8cd99ff0b791747",
   "metadata": {},
   "source": [
    "默认情况下,这些操作适用于数组,就像它是一个数字列表一样,无论其形状如何。 但是,通过指定`axis`参数,可以沿数组的指定轴应用操作:\n",
    "\n",
    "By default, these operations apply to the array as though it were a list of numbers, regardless of its shape. However, by specifying the `axis` parameter we can apply an operation along the specified axis of an array:"
   ]
  },
  {
   "cell_type": "code",
   "execution_count": 82,
   "id": "80b5fc380457db0",
   "metadata": {
    "ExecuteTime": {
     "end_time": "2025-01-05T08:36:50.526805Z",
     "start_time": "2025-01-05T08:36:50.513589Z"
    }
   },
   "outputs": [
    {
     "name": "stdout",
     "output_type": "stream",
     "text": [
      "[[ 0  1  2  3]\n",
      " [ 4  5  6  7]\n",
      " [ 8  9 10 11]]\n",
      "[12 15 18 21]\n",
      "[0 4 8]\n",
      "[[ 0  1  3  6]\n",
      " [ 4  9 15 22]\n",
      " [ 8 17 27 38]]\n"
     ]
    }
   ],
   "source": [
    "b = np.arange(12).reshape(3,4)\n",
    "print(b)\n",
    "print(b.sum(axis=0))  # sum of each column\n",
    "print(b.min(axis=1))  # min of each row \n",
    "print(b.cumsum(axis=1))  # cumulative sum along each row"
   ]
  },
  {
   "cell_type": "markdown",
   "id": "c2daee5d7fb41105",
   "metadata": {},
   "source": [
    "## 通函数 | Universal Functions\n",
    "\n",
    "NumPy提供熟悉的数学函数,例如sin,cos和exp。 在NumPy中,这些被称为\"通函数\"(ufunc)。 在NumPy中,这些函数在数组上按元素进行运算,产生一个数组作为输出。\n",
    "NumPy provides familiar mathematical functions such as sin, cos, and exp. In NumPy, these are called \"universal functions\"(ufunc). In NumPy, these functions operate elementwise on an array, producing an array as output."
   ]
  },
  {
   "cell_type": "code",
   "execution_count": 83,
   "id": "d171be2c9cafe295",
   "metadata": {
    "ExecuteTime": {
     "end_time": "2025-01-05T08:36:50.559064Z",
     "start_time": "2025-01-05T08:36:50.540898Z"
    }
   },
   "outputs": [
    {
     "name": "stdout",
     "output_type": "stream",
     "text": [
      "[0 1 2]\n",
      "[1.         2.71828183 7.3890561 ]\n",
      "[0.         1.         1.41421356]\n",
      "[2. 0. 6.]\n"
     ]
    }
   ],
   "source": [
    "B = np.arange(3)\n",
    "print(B)\n",
    "print(np.exp(B))\n",
    "print(np.sqrt(B))\n",
    "C = np.array([2., -1., 4.])\n",
    "print(np.add(B, C))"
   ]
  },
  {
   "cell_type": "markdown",
   "id": "41d7bc9672884936",
   "metadata": {},
   "source": [
    "另见:\n",
    "- [NumPy Ufunc的完整列表 | The complete list of NumPy Ufuncs](https://numpy.org/doc/stable/reference/ufuncs.html#available-ufuncs)"
   ]
  },
  {
   "cell_type": "markdown",
   "id": "bea50e2cfb8fea23",
   "metadata": {},
   "source": [
    "## 索引、切片和迭代 | Indexing, Slicing and Iterating\n",
    "\n",
    "**一维**数组可以进行索引、切片和迭代操作的,就像 Python 列表一样:\n",
    "**One-dimensional** arrays can be indexed, sliced and iterated over, much like Python lists:\n"
   ]
  },
  {
   "cell_type": "code",
   "execution_count": 84,
   "id": "6337fc8ebebf3009",
   "metadata": {
    "ExecuteTime": {
     "end_time": "2025-01-05T08:36:50.574113Z",
     "start_time": "2025-01-05T08:36:50.560255Z"
    }
   },
   "outputs": [
    {
     "name": "stdout",
     "output_type": "stream",
     "text": [
      "[  0   1   8  27  64 125 216 343 512 729]\n",
      "8\n",
      "[ 8 27 64]\n",
      "[-1000     1 -1000    27 -1000   125   216   343   512   729]\n",
      "[  729   512   343   216   125 -1000    27 -1000     1 -1000]\n",
      "nan\n",
      "1.0\n",
      "nan\n",
      "3.0\n",
      "nan\n",
      "4.999999999999999\n",
      "5.999999999999999\n",
      "6.999999999999999\n",
      "7.999999999999999\n",
      "8.999999999999998\n"
     ]
    },
    {
     "name": "stderr",
     "output_type": "stream",
     "text": [
      "C:\\Users\\gufan\\AppData\\Local\\Programs\\Python\\Python37\\lib\\site-packages\\ipykernel_launcher.py:9: RuntimeWarning: invalid value encountered in power\n",
      "  if __name__ == \"__main__\":\n"
     ]
    }
   ],
   "source": [
    "a = np.arange(10)**3\n",
    "print(a)\n",
    "print(a[2])\n",
    "print(a[2:5])\n",
    "a[:6:2] = -1000    # equivalent to a[0:6:2] = -1000\n",
    "print(a)\n",
    "print(a[ : :-1])\n",
    "for i in a:\n",
    "    print(i**(1/3.))"
   ]
  },
  {
   "cell_type": "markdown",
   "id": "8a489180e25eac8c",
   "metadata": {},
   "source": [
    "**多维**数组每个轴可以有一个索引。这些索引以逗号分隔的元组给出\n",
    "**Multidimensional** arrays can have one index per axis. These indices are given in a tuple separated by commas:"
   ]
  },
  {
   "cell_type": "code",
   "execution_count": 85,
   "id": "6a5f20afaf9cb398",
   "metadata": {
    "ExecuteTime": {
     "end_time": "2025-01-05T08:36:50.620194Z",
     "start_time": "2025-01-05T08:36:50.608717Z"
    }
   },
   "outputs": [
    {
     "name": "stdout",
     "output_type": "stream",
     "text": [
      "[[ 0  1  2  3]\n",
      " [10 11 12 13]\n",
      " [20 21 22 23]\n",
      " [30 31 32 33]\n",
      " [40 41 42 43]]\n",
      "23\n",
      "[ 1 11 21 31 41]\n",
      "[ 1 11 21 31 41]\n",
      "[[10 11 12 13]\n",
      " [20 21 22 23]]\n",
      "[40 41 42 43]\n"
     ]
    }
   ],
   "source": [
    "def f(x,y):\n",
    "    return 10*x+y\n",
    "b = np.fromfunction(f,(5,4),dtype=int)\n",
    "print(b)\n",
    "print(b[2,3])\n",
    "print(b[0:5, 1])\n",
    "print(b[ : ,1])\n",
    "print(b[1:3, : ])\n",
    "print(b[-1])"
   ]
  },
  {
   "cell_type": "markdown",
   "id": "f3f20d99b2e5ab4",
   "metadata": {},
   "source": [
    "当提供的索引少于轴的数量时,缺失的索引被认为是一个完整的切片\n",
    "When fewer indices are provided than the number of axes, the missing indices are considered complete slices:"
   ]
  },
  {
   "cell_type": "code",
   "execution_count": 86,
   "id": "c43268d3cb154901",
   "metadata": {
    "ExecuteTime": {
     "end_time": "2025-01-05T08:36:50.636050Z",
     "start_time": "2025-01-05T08:36:50.626526Z"
    }
   },
   "outputs": [
    {
     "name": "stdout",
     "output_type": "stream",
     "text": [
      "[40 41 42 43]\n"
     ]
    }
   ],
   "source": [
    "print(b[-1])  # the same as b[-1,:]"
   ]
  },
  {
   "cell_type": "markdown",
   "id": "c25288d3d1c5788e",
   "metadata": {},
   "source": [
    "`b[i]` 方括号中的表达式 `i` 被视为后面紧跟着 `:` 的多个实例,用于表示剩余轴。 NumPy还允许你使用三个点写为 `b[i,...]`。\n",
    "The expression within the brackets `b[i]` in is treated as if it was `i` followed by as many instances of `:` as needed to represent the remaining axes. NumPy also allows you to write this using dots as `b[i,...]`.\n",
    "\n",
    "三个点(`...`)表示产生完整索引元组所需的冒号。例如, 如果 `x` 是rank为5的数组(即,它具有5个轴),那么:\n",
    "- `x[1,2,...]` 相当于 `x[1,2,:,:,:]`, \n",
    "- `x[...,3]` 等效于 `x[:,:,:,:,3]`\n",
    "- `x[4,...,5,:]` 等效于 `x[4,:,:,5,:]`\n",
    "\n",
    "The dots (`...`) represent as many colons as needed to produce a complete indexing tuple. For example, if `x` is an array with 5 axes, then:\n",
    "- `x[1,2,...]` is equivalent to `x[1,2,:,:,:]`,\n",
    "- `x[...,3]` to `x[:,:,:,:,3]` \n",
    "- `x[4,...,5,:]` to `x[4,:,:,5,:]`."
   ]
  },
  {
   "cell_type": "code",
   "execution_count": 87,
   "id": "3cc72e51a11bab59",
   "metadata": {
    "ExecuteTime": {
     "end_time": "2025-01-05T08:36:50.666831Z",
     "start_time": "2025-01-05T08:36:50.653264Z"
    }
   },
   "outputs": [
    {
     "name": "stdout",
     "output_type": "stream",
     "text": [
      "(2, 2, 3)\n",
      "[[100 101 102]\n",
      " [110 112 113]]\n",
      "[[  2  13]\n",
      " [102 113]]\n"
     ]
    }
   ],
   "source": [
    "c = np.array([[[  0,  1,  2],  \n",
    "               [ 10, 12, 13]],\n",
    "              [[100,101,102],\n",
    "               [110,112,113]]])\n",
    "print(c.shape)\n",
    "print(c[1,...]) \n",
    "print(c[...,2])"
   ]
  },
  {
   "cell_type": "markdown",
   "id": "3eb9797b73884ec0",
   "metadata": {},
   "source": [
    "对多维数组进行 **迭代(Iterating)** 是相对于第一个轴完成的:\n",
    "**Iterating** over multidimensional arrays is done with respect to the first axis:"
   ]
  },
  {
   "cell_type": "code",
   "execution_count": 88,
   "id": "d65afe7568b172e",
   "metadata": {
    "ExecuteTime": {
     "end_time": "2025-01-05T08:36:50.728929Z",
     "start_time": "2025-01-05T08:36:50.723709Z"
    }
   },
   "outputs": [
    {
     "name": "stdout",
     "output_type": "stream",
     "text": [
      "[0 1 2 3]\n",
      "[10 11 12 13]\n",
      "[20 21 22 23]\n",
      "[30 31 32 33]\n",
      "[40 41 42 43]\n"
     ]
    }
   ],
   "source": [
    "for row in b:\n",
    "    print(row)"
   ]
  },
  {
   "cell_type": "markdown",
   "id": "d2c7c59a8b28df87",
   "metadata": {},
   "source": [
    "但是, 如果想要对数组中的每个元素执行操作, 可以使用 `flat` 属性,该属性是数组的所有元素的迭代器:\n",
    "However, if one wants to perform an operation on each element in the array, one can use the `flat` attribute which is an iterator over all the elements of the array:"
   ]
  },
  {
   "cell_type": "code",
   "execution_count": 89,
   "id": "3868e7ec9e4e6ac9",
   "metadata": {
    "ExecuteTime": {
     "end_time": "2025-01-05T08:36:50.760127Z",
     "start_time": "2025-01-05T08:36:50.741724Z"
    }
   },
   "outputs": [
    {
     "name": "stdout",
     "output_type": "stream",
     "text": [
      "0\n",
      "1\n",
      "2\n",
      "3\n",
      "10\n",
      "11\n",
      "12\n",
      "13\n",
      "20\n",
      "21\n",
      "22\n",
      "23\n",
      "30\n",
      "31\n",
      "32\n",
      "33\n",
      "40\n",
      "41\n",
      "42\n",
      "43\n"
     ]
    }
   ],
   "source": [
    "for element in b.flat:\n",
    "    print(element)"
   ]
  },
  {
   "cell_type": "markdown",
   "id": "9812d06f600d0576",
   "metadata": {},
   "source": [
    "另见:\n",
    "- [NumPy索引的基础 | Indexing basics](https://numpy.org/doc/stable/user/basics.indexing.html)"
   ]
  },
  {
   "cell_type": "markdown",
   "id": "55fe21b7af58c731",
   "metadata": {},
   "source": [
    "## 形状操纵 | Shape Manipulation\n",
    "\n",
    "### 改变数组的形状 | Changing the shape of an array\n",
    "\n",
    "一个数组的形状由它每个轴上的元素数量决定 | An array has a shape given by the number of elements along each axis:"
   ]
  },
  {
   "cell_type": "code",
   "execution_count": 90,
   "id": "309389992503fa2f",
   "metadata": {
    "ExecuteTime": {
     "end_time": "2025-01-05T08:36:50.821782Z",
     "start_time": "2025-01-05T08:36:50.805834Z"
    }
   },
   "outputs": [
    {
     "name": "stdout",
     "output_type": "stream",
     "text": [
      "[[8. 4. 1. 5.]\n",
      " [6. 4. 5. 8.]\n",
      " [7. 8. 9. 1.]]\n",
      "(3, 4)\n"
     ]
    }
   ],
   "source": [
    "a = np.floor(10*np.random.random((3,4)))\n",
    "print(a)\n",
    "print(a.shape)"
   ]
  },
  {
   "cell_type": "markdown",
   "id": "19796a3124ae3d4d",
   "metadata": {},
   "source": [
    "可以使用各种命令更改数组的形状。注意以下三个函数都返回一个修改后的数组,但不会更改原始数组:\n",
    "The shape of an array can be changed with various commands. Note that the following three functions return a modified array, but do not change the original array:"
   ]
  },
  {
   "cell_type": "code",
   "execution_count": 91,
   "id": "c4d2a368f5cc1766",
   "metadata": {
    "ExecuteTime": {
     "end_time": "2025-01-05T08:36:50.853320Z",
     "start_time": "2025-01-05T08:36:50.835531Z"
    }
   },
   "outputs": [
    {
     "name": "stdout",
     "output_type": "stream",
     "text": [
      "[8. 4. 1. 5. 6. 4. 5. 8. 7. 8. 9. 1.]\n",
      "[[8. 4.]\n",
      " [1. 5.]\n",
      " [6. 4.]\n",
      " [5. 8.]\n",
      " [7. 8.]\n",
      " [9. 1.]]\n",
      "[[8. 6. 7.]\n",
      " [4. 4. 8.]\n",
      " [1. 5. 9.]\n",
      " [5. 8. 1.]]\n",
      "[[   8.    4.    1.    5.]\n",
      " [   6. 1000.    5.    8.]\n",
      " [   7.    8.    9.    1.]]\n",
      "(4, 3)\n",
      "(3, 4)\n"
     ]
    }
   ],
   "source": [
    "print(a.ravel())  # flattens the array\n",
    "print(a.reshape(6,2)) # returns the array with a modified shape\n",
    "print(a.T) # returns the array, transposed\n",
    "x = a.T\n",
    "x[1,1] = 1000 #注意a的值被修改了\n",
    "print(a) \n",
    "print(a.T.shape)\n",
    "print(a.shape)"
   ]
  },
  {
   "cell_type": "markdown",
   "id": "2ff1c7590b4d6ae",
   "metadata": {},
   "source": [
    "由 `ravel()` 展平的数组元素的顺序通常是\"C风格\",也就是说,最右边的索引\"变化最快\",因此[0,0]之后的元素是[0,1]。 如果将数组重新整形(reshape)为其他形状,则该数组将被视为\"C风格\"。 NumPy通常会创建按此顺序存储的数组,因此`ravel()`通常不需要复制其参数,但如果数组是通过获取另一个数组的切片或使用不常见的选项创建的,则可能需要复制它。 `ravel()`函数的应用和作用与`reshape(-1)`类似。\n",
    "\n",
    "The order of the elements in the array resulting from `ravel()` is normally \"C-style\", that is, the rightmost index \"changes the fastest\", so the element after [0,0] is [0,1]. If the array is reshaped to some other shape, the array is treated as \"C-style\". NumPy normally creates arrays stored in this order, so `ravel()` will usually not need to copy its argument, but if the array was made by taking slices of another array or created with unusual options, it may need to be copied. The functions `ravel()` and `reshape()` can also be instructed, using an optional argument, to use FORTRAN-style arrays, in which the leftmost index changes the fastest."
   ]
  },
  {
   "cell_type": "code",
   "execution_count": 92,
   "id": "c1ccde01b9b9de70",
   "metadata": {
    "ExecuteTime": {
     "end_time": "2025-01-05T08:36:50.885440Z",
     "start_time": "2025-01-05T08:36:50.881067Z"
    }
   },
   "outputs": [
    {
     "name": "stdout",
     "output_type": "stream",
     "text": [
      "[[   8.    4.    1.    5.    6. 1000.]\n",
      " [   5.    8.    7.    8.    9.    1.]]\n"
     ]
    }
   ],
   "source": [
    "print(a.reshape(2, 6))"
   ]
  },
  {
   "cell_type": "markdown",
   "id": "4d65d6f5d7ccd04d",
   "metadata": {},
   "source": [
    "另见:\n",
    "- [reshape的各种例子 | Various examples of reshape](https://numpy.org/doc/stable/user/quickstart.html#quickstart-shape-manipulation)"
   ]
  },
  {
   "cell_type": "markdown",
   "id": "3a3a40746bc23f01",
   "metadata": {},
   "source": [
    "### 数组的堆叠 | Stacking together different arrays\n",
    "\n",
    "几个数组可以沿不同的轴堆叠在一起 \n",
    "Several arrays can be stacked together along different axes:"
   ]
  },
  {
   "cell_type": "code",
   "execution_count": 93,
   "id": "9e270180a2006f58",
   "metadata": {
    "ExecuteTime": {
     "end_time": "2025-01-05T08:36:50.916583Z",
     "start_time": "2025-01-05T08:36:50.900373Z"
    }
   },
   "outputs": [
    {
     "name": "stdout",
     "output_type": "stream",
     "text": [
      "[[7. 1.]\n",
      " [5. 3.]]\n",
      "[[1. 0.]\n",
      " [8. 9.]]\n",
      "[[7. 1.]\n",
      " [5. 3.]\n",
      " [1. 0.]\n",
      " [8. 9.]]\n",
      "[[7. 1. 1. 0.]\n",
      " [5. 3. 8. 9.]]\n"
     ]
    }
   ],
   "source": [
    "a = np.floor(10*np.random.random((2,2)))\n",
    "print(a)\n",
    "b = np.floor(10*np.random.random((2,2)))\n",
    "print(b) \n",
    "print(np.vstack((a,b)))\n",
    "print(np.hstack((a,b)))\n"
   ]
  },
  {
   "cell_type": "markdown",
   "id": "44db598847588a04",
   "metadata": {},
   "source": [
    "该函数将一维数组作为列堆叠到二维数组中。它的效果相当于vstack只是输入数组被作为一维数组引用。\n",
    "The function `column_stack` stacks 1D arrays as columns into a 2D array. It is equivalent to `hstack` only for 2D arrays."
   ]
  },
  {
   "cell_type": "code",
   "execution_count": 94,
   "id": "805f69a612bbef74",
   "metadata": {
    "ExecuteTime": {
     "end_time": "2025-01-05T08:36:50.931395Z",
     "start_time": "2025-01-05T08:36:50.923072Z"
    }
   },
   "outputs": [
    {
     "name": "stdout",
     "output_type": "stream",
     "text": [
      "[[7. 1. 1. 0.]\n",
      " [5. 3. 8. 9.]]\n"
     ]
    }
   ],
   "source": [
    "print(np.column_stack((a,b))) # with 2D arrays"
   ]
  },
  {
   "cell_type": "markdown",
   "id": "9c79212d705d0a6e",
   "metadata": {},
   "source": [
    "对于具有两个以上维度的数组,`hstack`沿其第二轴堆叠,`vstack`沿其第一轴堆叠,`concatenate`允许可选参数给出连接应发生的轴。\n",
    "\n",
    "For arrays of with more than two dimensions, `hstack` stacks along their second axes, `vstack` stacks along their first axes, and `concatenate` allows for an optional arguments giving the number of the axis along which the concatenation should happen."
   ]
  },
  {
   "cell_type": "code",
   "execution_count": 95,
   "id": "d7342c64c7d85b82",
   "metadata": {
    "ExecuteTime": {
     "end_time": "2025-01-05T08:36:50.994772Z",
     "start_time": "2025-01-05T08:36:50.983149Z"
    }
   },
   "outputs": [
    {
     "name": "stdout",
     "output_type": "stream",
     "text": [
      "[[5. 7.]\n",
      " [5. 0.]]\n",
      "[[5. 5. 5. 7.]\n",
      " [7. 0. 5. 0.]]\n",
      "[[5. 5.]\n",
      " [7. 0.]\n",
      " [5. 7.]\n",
      " [5. 0.]]\n",
      "[[5. 5. 5. 7.]\n",
      " [7. 0. 5. 0.]]\n",
      "[[5. 5.]\n",
      " [7. 0.]\n",
      " [5. 7.]\n",
      " [5. 0.]]\n"
     ]
    }
   ],
   "source": [
    "a = np.floor(10*np.random.random((2,2)))\n",
    "print(a.T)\n",
    "print(np.hstack((a,a.T)))\n",
    "print(np.vstack((a,a.T)))\n",
    "print(np.concatenate((a, a.T), axis=1))\n",
    "print(np.concatenate((a, a.T), axis=0))"
   ]
  },
  {
   "cell_type": "markdown",
   "id": "1a25d3463593c909",
   "metadata": {},
   "source": [
    "\n",
    "### 将一个数组拆分成几个较小的数组 | Splitting one array into several smaller ones\n",
    "\n",
    "使用`hsplit`你可以沿着水平轴分割数组,或者使用`vsplit`沿着垂直轴分割,或者使用`array_split`允许指定沿哪个轴分割。\n",
    "Using `hsplit` you can split an array along its horizontal axis, either by specifying the number of equally shaped arrays to return, or by specifying the columns after which the division should occur:"
   ]
  },
  {
   "cell_type": "code",
   "execution_count": 96,
   "id": "bd86c20c6eb5ce11",
   "metadata": {
    "ExecuteTime": {
     "end_time": "2025-01-05T08:36:51.025330Z",
     "start_time": "2025-01-05T08:36:51.011143Z"
    }
   },
   "outputs": [
    {
     "name": "stdout",
     "output_type": "stream",
     "text": [
      "[[6. 3. 3. 4. 8. 3. 5. 9. 1. 1. 0. 2.]\n",
      " [9. 3. 2. 0. 2. 7. 4. 3. 2. 5. 3. 9.]]\n",
      "[array([[6., 3., 3., 4.],\n",
      "       [9., 3., 2., 0.]]), array([[8., 3., 5., 9.],\n",
      "       [2., 7., 4., 3.]]), array([[1., 1., 0., 2.],\n",
      "       [2., 5., 3., 9.]])]\n",
      "[array([[6., 3., 3.],\n",
      "       [9., 3., 2.]]), array([[4.],\n",
      "       [0.]]), array([[8., 3., 5., 9., 1., 1., 0., 2.],\n",
      "       [2., 7., 4., 3., 2., 5., 3., 9.]])]\n"
     ]
    }
   ],
   "source": [
    "a = np.floor(10*np.random.random((2,12)))\n",
    "print(a) \n",
    "# Split a into 3\n",
    "print(np.hsplit(a,3))\n",
    "# Split a after the third and the fourth column\n",
    "print(np.hsplit(a,(3,4)))"
   ]
  },
  {
   "cell_type": "markdown",
   "id": "1d8520e6781ebd8d",
   "metadata": {},
   "source": [
    "## 拷贝和视图(Copy and View)\n",
    "\n",
    "当计算和操作数组时,有时会将数据复制到新数组中,有时则不会。这通常是初学者混淆的根源。有三种情况:\n",
    "\n",
    "When operating and manipulating arrays, their data is sometimes copied into a new array and sometimes not. This is often a source of confusion for beginners. There are three cases: \n",
    "\n",
    "### 不复制 | No Copy at All\n",
    "\n",
    "简单分配不会复制数组对象或其数据。\n",
    "Simple assignments make no copy of objects or their data."
   ]
  },
  {
   "cell_type": "code",
   "execution_count": 97,
   "id": "3b67f432bb2c2f5b",
   "metadata": {
    "ExecuteTime": {
     "end_time": "2025-01-05T08:36:51.088215Z",
     "start_time": "2025-01-05T08:36:51.070640Z"
    }
   },
   "outputs": [
    {
     "name": "stdout",
     "output_type": "stream",
     "text": [
      "True\n",
      "(3, 4)\n"
     ]
    }
   ],
   "source": [
    "a = np.arange(12)\n",
    "b = a  # no new object is created\n",
    "print(b is a)  # a and b are two names for the same ndarray object\n",
    "b.shape = 3,4  # changes the shape of a\n",
    "print(a.shape)"
   ]
  },
  {
   "cell_type": "markdown",
   "id": "b9eeb868de636215",
   "metadata": {},
   "source": [
    "Python将可变对象作为引用传递,因此函数调用不会复制。\n",
    "Python passes mutable objects as references, so function calls make no copy."
   ]
  },
  {
   "cell_type": "code",
   "execution_count": 98,
   "id": "30df9f12b7c4ebab",
   "metadata": {
    "ExecuteTime": {
     "end_time": "2025-01-05T08:36:51.119022Z",
     "start_time": "2025-01-05T08:36:51.100476Z"
    }
   },
   "outputs": [
    {
     "name": "stdout",
     "output_type": "stream",
     "text": [
      "1659302405488\n",
      "1659302405488\n"
     ]
    }
   ],
   "source": [
    "def f(x):\n",
    "    print(id(x))\n",
    "\n",
    "print(id(a))  # id is a unique identifier of an object\n",
    "f(a)"
   ]
  },
  {
   "cell_type": "markdown",
   "id": "540e8b6ee3c6fad8",
   "metadata": {},
   "source": [
    "### 视图或浅拷贝 | View or Shallow Copy \n",
    "\n",
    "不同的数组对象可以共享相同的数据。 `view`方法创建一个查看相同数据的新数组对象。\n",
    "Different array objects can share the same data. The `view` method creates a new array object that looks at the same data."
   ]
  },
  {
   "cell_type": "code",
   "execution_count": 99,
   "id": "65ccaed30fce68ea",
   "metadata": {
    "ExecuteTime": {
     "end_time": "2025-01-05T08:36:51.150728Z",
     "start_time": "2025-01-05T08:36:51.137140Z"
    }
   },
   "outputs": [
    {
     "name": "stdout",
     "output_type": "stream",
     "text": [
      "False\n",
      "True\n",
      "False\n",
      "(3, 4)\n",
      "[[   0    1    2    3]\n",
      " [1234    5    6    7]\n",
      " [   8    9   10   11]]\n"
     ]
    }
   ],
   "source": [
    "c = a.view()\n",
    "print(c is a)\n",
    "print(c.base is a)  # c is a view of the data owned by a\n",
    "print(c.flags.owndata)\n",
    "c.shape = 2,6  # a's shape doesn't change\n",
    "print(a.shape)\n",
    "c[0,4] = 1234  # a's data changes\n",
    "print(a)"
   ]
  },
  {
   "cell_type": "markdown",
   "id": "63f9990814bd4703",
   "metadata": {},
   "source": [
    "切片数组会返回一个视图\n",
    "Slicing an array returns a view of it:\n"
   ]
  },
  {
   "cell_type": "code",
   "execution_count": 100,
   "id": "e82a642e5b2d74e2",
   "metadata": {
    "ExecuteTime": {
     "end_time": "2025-01-05T08:36:51.182653Z",
     "start_time": "2025-01-05T08:36:51.167787Z"
    }
   },
   "outputs": [
    {
     "name": "stdout",
     "output_type": "stream",
     "text": [
      "[[ 1  2]\n",
      " [ 5  6]\n",
      " [ 9 10]]\n",
      "[[10 10]\n",
      " [10 10]\n",
      " [10 10]]\n",
      "[[   0   10   10    3]\n",
      " [1234   10   10    7]\n",
      " [   8   10   10   11]]\n"
     ]
    }
   ],
   "source": [
    "s = a[ : , 1:3]  # spaces added for clarity; could also be written \"s = a[:,1:3]\"\n",
    "print(s)\n",
    "s[:] = 10  # s[:] is a view of s. Note the difference between s=10 and s[:]=10\n",
    "print(s)\n",
    "print(a)"
   ]
  },
  {
   "cell_type": "markdown",
   "id": "ed2f791409f8a84f",
   "metadata": {},
   "source": [
    "\n",
    "### 深拷贝 | Deep Copy\n",
    "\n",
    "`copy`方法生成数组及其数据的完整副本。\n",
    "The `copy` method makes a complete copy of the array and its data.\n"
   ]
  },
  {
   "cell_type": "code",
   "execution_count": 101,
   "id": "5021101d2ead5798",
   "metadata": {
    "ExecuteTime": {
     "end_time": "2025-01-05T08:36:51.228468Z",
     "start_time": "2025-01-05T08:36:51.216459Z"
    }
   },
   "outputs": [
    {
     "name": "stdout",
     "output_type": "stream",
     "text": [
      "False\n",
      "False\n",
      "[[   0   10   10    3]\n",
      " [1234   10   10    7]\n",
      " [   8   10   10   11]]\n"
     ]
    }
   ],
   "source": [
    "d = a.copy()  # a new array object with new data is created\n",
    "print(d is a)\n",
    "print(d.base is a)  # d doesn't share anything with a \n",
    "d[0,0] = 9999\n",
    "print(a)"
   ]
  },
  {
   "cell_type": "markdown",
   "id": "4702957c30d600cb",
   "metadata": {},
   "source": [
    "\n",
    "有时,如果不再需要原始数组,则应在切片后调用 `copy`。例如,假设a是一个巨大的中间结果,最终结果b只包含a的一小部分,则在用切片构建b时应该做一个深拷贝:\n",
    "\n",
    "Sometimes `copy` should be called after slicing if the original array is not required anymore. For example, suppose a is a huge intermediate result and the final result b only contains a small fraction of a, a deep copy should be made when constructing b with slicing:"
   ]
  },
  {
   "cell_type": "code",
   "execution_count": 102,
   "id": "5ad1cf62db4cb5ef",
   "metadata": {
    "ExecuteTime": {
     "end_time": "2025-01-05T08:36:51.429452Z",
     "start_time": "2025-01-05T08:36:51.250054Z"
    }
   },
   "outputs": [],
   "source": [
    "a = np.arange(int(1e8))\n",
    "b = a[:100].copy()\n",
    "del a  # the memory of ``a`` can be released."
   ]
  },
  {
   "cell_type": "markdown",
   "id": "554a48c98eb95b87",
   "metadata": {},
   "source": [
    "如果改为使用 `b = a[:100]`,则 `a` 由 `b` 引用,并且即使执行 `del a` 也会在内存中持久存在。\n",
    "If on the other hand `b = a[:100]` is used, `a` is referenced by `b` and will persist in memory even if `del a` is executed."
   ]
  },
  {
   "cell_type": "markdown",
   "id": "6a6bd04641522807",
   "metadata": {
    "collapsed": false
   },
   "source": [
    "\n",
    "## 询问 | Questions\n",
    "\n",
    "`all` 测试数组中所有元素是否都为True.\n",
    "Test whether all array elements along a given axis evaluate to True."
   ]
  },
  {
   "cell_type": "code",
   "outputs": [
    {
     "name": "stdout",
     "output_type": "stream",
     "text": [
      "False\n"
     ]
    }
   ],
   "source": [
    "arr = np.array([[True, False], [True, True]])\n",
    "print(np.all(arr)) "
   ],
   "metadata": {
    "collapsed": false,
    "ExecuteTime": {
     "end_time": "2025-01-05T08:36:51.445267Z",
     "start_time": "2025-01-05T08:36:51.431660Z"
    }
   },
   "id": "3105bbdd591dba9f",
   "execution_count": 103
  },
  {
   "cell_type": "markdown",
   "source": [
    "`any`测试数组中是否存在一个或多个True. `nonzero` 返回数组中非零元素的索引.\n",
    " Test whether any array element along a given axis evaluates to True. Return the indices of the elements that are non-zero."
   ],
   "metadata": {
    "collapsed": false
   },
   "id": "54c94fcf0b3ab95d"
  },
  {
   "cell_type": "code",
   "outputs": [
    {
     "name": "stdout",
     "output_type": "stream",
     "text": [
      "True\n",
      "(array([0, 1], dtype=int64), array([0, 1], dtype=int64))\n"
     ]
    }
   ],
   "source": [
    "print(np.any(arr))  # 输出: True\n",
    "arr = np.array([[1, 0], [0, 2]]) # nonzero: 返回数组中非零元素的索引 | Return the indices of the elements that are non-zero.\n",
    "print(np.nonzero(arr))  "
   ],
   "metadata": {
    "collapsed": false,
    "ExecuteTime": {
     "end_time": "2025-01-05T08:36:51.460750Z",
     "start_time": "2025-01-05T08:36:51.446477Z"
    }
   },
   "id": "c4fd95bd8ed7c4ce",
   "execution_count": 104
  },
  {
   "cell_type": "markdown",
   "source": [
    " `where` 根据条件返回索引.\n",
    "  Return elements chosen from x or y depending on condition."
   ],
   "metadata": {
    "collapsed": false
   },
   "id": "c7b3edac0ca80325"
  },
  {
   "cell_type": "code",
   "outputs": [
    {
     "name": "stdout",
     "output_type": "stream",
     "text": [
      "[ 1  7  3  4 10]\n"
     ]
    }
   ],
   "source": [
    "x = np.array([1, 2, 3, 4, 5])\n",
    "y = np.array([6, 7, 8, 9, 10])\n",
    "condition = np.array([True, False, True, True, False])\n",
    "print(np.where(condition, x, y))  # 输出: array([1, 7, 3, 4, 10])"
   ],
   "metadata": {
    "collapsed": false,
    "ExecuteTime": {
     "end_time": "2025-01-05T08:36:51.476589Z",
     "start_time": "2025-01-05T08:36:51.462914Z"
    }
   },
   "id": "b099ee5e2e9fe479",
   "execution_count": 105
  },
  {
   "cell_type": "markdown",
   "source": [
    "## 顺序 | Ordering"
   ],
   "metadata": {
    "collapsed": false
   },
   "id": "fc9d1df4a2779ffc"
  },
  {
   "cell_type": "code",
   "outputs": [
    {
     "name": "stdout",
     "output_type": "stream",
     "text": [
      "3\n",
      "0\n",
      "[1 2 0]\n",
      "3\n",
      "1\n",
      "2\n",
      "2\n",
      "[[1 4]\n",
      " [2 3]]\n"
     ]
    }
   ],
   "source": [
    "# argmax: 返回数组中最大值的索引 | Returns the indices of the maximum values along an axis.\n",
    "arr = np.array([[1, 2], [3, 4]])\n",
    "print(np.argmax(arr))  # 输出: 3\n",
    "\n",
    "# argmin: 返回数组中最小值的索引 | Returns the indices of the minimum values along an axis.\n",
    "print(np.argmin(arr))  # 输出: 0\n",
    "\n",
    "# argsort: 返回数组值从小到大的索引值 | Returns the indices that would sort an array.\n",
    "arr = np.array([3, 1, 2])\n",
    "print(np.argsort(arr))  # 输出: array([1, 2, 0])\n",
    "\n",
    "# max: 返回数组中的最大值 | Return the maximum along a given axis.\n",
    "print(np.max(arr))  # 输出: 3\n",
    "\n",
    "# min: 返回数组中的最小值 | Return the minimum along a given axis.\n",
    "print(np.min(arr))  # 输出: 1\n",
    "\n",
    "# ptp: 返回数组中最大值和最小值的差 | Range of values (maximum - minimum) along a given axis.\n",
    "print(np.ptp(arr))  # 输出: 2\n",
    "\n",
    "# searchsorted: 为维持数组顺序,将值插入数组中的索引位置 | Find indices where elements should be inserted to maintain order.\n",
    "arr = np.array([1, 2, 3, 4, 5])\n",
    "print(np.searchsorted(arr, 3))  # 输出: 2\n",
    "\n",
    "# sort: 对输入数组进行就地排序 | Return a sorted copy of an array.\n",
    "arr = np.array([[1, 4], [3, 2]])\n",
    "print(np.sort(arr))  # 输出: array([[1, 4], [2, 3]])"
   ],
   "metadata": {
    "collapsed": false,
    "ExecuteTime": {
     "end_time": "2025-01-05T08:36:51.491862Z",
     "start_time": "2025-01-05T08:36:51.477716Z"
    }
   },
   "id": "467c7f912972ff5f",
   "execution_count": 106
  },
  {
   "cell_type": "markdown",
   "source": [
    "## 运算 | Operations"
   ],
   "metadata": {
    "collapsed": false
   },
   "id": "43e5c3ee9b2e9c0d"
  },
  {
   "cell_type": "markdown",
   "source": [
    "`choose` 根据索引数组从数据源数组中构造一个新数组.\n",
    "Construct an array from an index array and a set of arrays to choose from."
   ],
   "metadata": {
    "collapsed": false
   },
   "id": "ecf082b1f4c2f48a"
  },
  {
   "cell_type": "code",
   "outputs": [
    {
     "name": "stdout",
     "output_type": "stream",
     "text": [
      "[20 31 12  3]\n"
     ]
    }
   ],
   "source": [
    "choices = [\n",
    "    [0, 1, 2, 3],\n",
    "    [10, 11, 12, 13],\n",
    "    [20, 21, 22, 23],\n",
    "    [30, 31, 32, 33]\n",
    "]\n",
    "arr = np.choose([2, 3, 1, 0], choices)\n",
    "print(arr)  # 输出: array([20, 31, 12,  3])"
   ],
   "metadata": {
    "collapsed": false,
    "ExecuteTime": {
     "end_time": "2025-01-05T08:36:51.515083Z",
     "start_time": "2025-01-05T08:36:51.497895Z"
    }
   },
   "id": "c2c38f2d49971e0a",
   "execution_count": 107
  },
  {
   "cell_type": "markdown",
   "source": [
    "`cumprod` 返回数组中元素的累积乘积. `cumsum` 返回数组中元素的累积和. `inner` 计算两个数组的内积.\n",
    " Return the cumulative product of elements along a given axis. Return the cumulative sum of the elements along a given axis."
   ],
   "metadata": {
    "collapsed": false
   },
   "id": "a24584b6146c1b0d"
  },
  {
   "cell_type": "code",
   "outputs": [
    {
     "name": "stdout",
     "output_type": "stream",
     "text": [
      "[1 2 6]\n",
      "[1 3 6]\n"
     ]
    }
   ],
   "source": [
    "arr = np.array([1, 2, 3])\n",
    "print(np.cumprod(arr))  # 输出: array([1, 2, 6])\n",
    "print(np.cumsum(arr))  # 输出: array([1, 3, 6])\n",
    "print(np.prod(arr))  # prod: 返回数组中所有元素的乘积"
   ],
   "metadata": {
    "collapsed": false,
    "ExecuteTime": {
     "end_time": "2025-01-05T08:43:04.329028Z",
     "start_time": "2025-01-05T08:43:04.323829Z"
    }
   },
   "id": "80581e5bf7faec4b",
   "execution_count": 121
  },
  {
   "cell_type": "markdown",
   "source": [
    "`inner` 计算两个数组的内积.\n",
    "Inner product of two arrays."
   ],
   "metadata": {
    "collapsed": false
   },
   "id": "cd2adc9dd07a75b5"
  },
  {
   "cell_type": "code",
   "outputs": [
    {
     "name": "stdout",
     "output_type": "stream",
     "text": [
      "2\n"
     ]
    }
   ],
   "source": [
    "arr1 = np.array([1, 2, 3])\n",
    "arr2 = np.array([0, 1, 0])\n",
    "print(np.inner(arr1, arr2))  # 输出: 2"
   ],
   "metadata": {
    "collapsed": false,
    "ExecuteTime": {
     "end_time": "2025-01-05T08:36:51.578140Z",
     "start_time": "2025-01-05T08:36:51.565477Z"
    }
   },
   "id": "e9cd84222dbebcae",
   "execution_count": 111
  },
  {
   "cell_type": "markdown",
   "source": [
    "`ndarray.fill` 用标量值填充数组. `put`为指定的索引位置赋值.\n",
    "Fill the array with a scalar value. Replaces specified elements of an array with given values."
   ],
   "metadata": {
    "collapsed": false
   },
   "id": "3dabcf21e9f652fd"
  },
  {
   "cell_type": "code",
   "outputs": [
    {
     "name": "stdout",
     "output_type": "stream",
     "text": [
      "[0 0 0]\n"
     ]
    }
   ],
   "source": [
    "arr = np.array([1, 2, 3])\n",
    "arr.fill(0) # ndarray.fill: 用标量值填充数组 | Fill the array with a scalar value.\n",
    "print(arr)  # 输出: array([0, 0, 0])"
   ],
   "metadata": {
    "collapsed": false,
    "ExecuteTime": {
     "end_time": "2025-01-05T08:36:51.594022Z",
     "start_time": "2025-01-05T08:36:51.579236Z"
    }
   },
   "id": "8641669a7d37710f",
   "execution_count": 112
  },
  {
   "cell_type": "code",
   "outputs": [
    {
     "name": "stdout",
     "output_type": "stream",
     "text": [
      "6\n",
      "[5 2 6 4]\n"
     ]
    }
   ],
   "source": [
    "arr = np.array([1, 2, 3, 4])\n",
    "np.put(arr, [0, 2], [5, 6]) # put: 为指定的索引位置赋值 | Replaces specified elements of an array with given values.\n",
    "print(arr)  # 输出: array([5, 2, 6, 4])"
   ],
   "metadata": {
    "collapsed": false,
    "ExecuteTime": {
     "end_time": "2025-01-05T08:36:51.609358Z",
     "start_time": "2025-01-05T08:36:51.595110Z"
    }
   },
   "id": "da92bde99088af3f",
   "execution_count": 113
  },
  {
   "cell_type": "code",
   "outputs": [
    {
     "name": "stdout",
     "output_type": "stream",
     "text": [
      "[1 2 0 0]\n",
      "6\n"
     ]
    }
   ],
   "source": [
    "# putmask: 根据指定的掩码数组为指定的索引位置赋值 | Changes elements of an array based on conditional and input values.\n",
    "arr = np.array([1, 2, 3, 4])\n",
    "np.putmask(arr, arr > 2, [0, 0])\n",
    "print(arr)  # 输出: array([1, 2, 0, 0])"
   ],
   "metadata": {
    "collapsed": false,
    "ExecuteTime": {
     "end_time": "2025-01-05T08:36:51.624075Z",
     "start_time": "2025-01-05T08:36:51.610416Z"
    }
   },
   "id": "475cae4c3ce55c49",
   "execution_count": 114
  },
  {
   "cell_type": "markdown",
   "source": [
    "## 基本统计 | Basic Statistics"
   ],
   "metadata": {
    "collapsed": false
   },
   "id": "ea1dfcc9723e318c"
  },
  {
   "cell_type": "code",
   "outputs": [
    {
     "name": "stdout",
     "output_type": "stream",
     "text": [
      "[[0.5 0.5]\n",
      " [0.5 0.5]]\n",
      "2.0\n",
      "0.816496580927726\n",
      "0.6666666666666666\n"
     ]
    }
   ],
   "source": [
    "# cov: 估计协方差矩阵 | Estimate a covariance matrix.\n",
    "arr = np.array([[1, 2], [3, 4]])\n",
    "print(np.cov(arr))  # 输出: array([[1., 1.], [1., 1.]])\n",
    "\n",
    "# mean: 计算数组的算术平均值 | Compute the arithmetic mean along the specified axis.\n",
    "arr = np.array([1, 2, 3])\n",
    "print(np.mean(arr))  # 输出: 2.0\n",
    "\n",
    "# std: 计算数组的标准差 | Compute the standard deviation along the specified axis.\n",
    "print(np.std(arr))  # 输出: 0.816496580927726\n",
    "\n",
    "# var: 计算数组的方差 | Compute the variance along the specified axis.\n",
    "print(np.var(arr))  # 输出: 0.6666666666666666"
   ],
   "metadata": {
    "collapsed": false,
    "ExecuteTime": {
     "end_time": "2025-01-05T08:36:51.639910Z",
     "start_time": "2025-01-05T08:36:51.626248Z"
    }
   },
   "id": "65ebf7da780e139f",
   "execution_count": 115
  },
  {
   "cell_type": "markdown",
   "source": [
    "## 基本线性代数 | Basic Linear Algebra\n",
    "\n",
    "cross: 返回两个(数组)向量的叉积. dot: 计算两个数组的点积.\n",
    "Return the cross product of two (arrays of) vectors. Dot product of two arrays. "
   ],
   "metadata": {
    "collapsed": false
   },
   "id": "5aa5b7c57eef7103"
  },
  {
   "cell_type": "code",
   "outputs": [
    {
     "name": "stdout",
     "output_type": "stream",
     "text": [
      "[-3  6 -3]\n"
     ]
    }
   ],
   "source": [
    "### cross: 返回两个(数组)向量的叉积 | Return the cross product of two (arrays of) vectors.\n",
    "a = np.array([1, 2, 3])\n",
    "b = np.array([4, 5, 6])\n",
    "print(np.cross(a, b))  # 输出: array([-3,  6, -3])"
   ],
   "metadata": {
    "collapsed": false,
    "ExecuteTime": {
     "end_time": "2025-01-05T08:36:51.754586Z",
     "start_time": "2025-01-05T08:36:51.739857Z"
    }
   },
   "id": "9a53cd91d55a842c",
   "execution_count": 116
  },
  {
   "cell_type": "code",
   "outputs": [
    {
     "name": "stdout",
     "output_type": "stream",
     "text": [
      "[[19 22]\n",
      " [43 50]]\n"
     ]
    }
   ],
   "source": [
    "### dot: 计算两个数组的点积 | Dot product of two arrays.\n",
    "a = np.array([[1, 2], [3, 4]])\n",
    "b = np.array([[5, 6], [7, 8]])\n",
    "print(np.dot(a, b))  # 输出: array([[19, 22], [43, 50]])"
   ],
   "metadata": {
    "collapsed": false,
    "ExecuteTime": {
     "end_time": "2025-01-05T08:36:51.786442Z",
     "start_time": "2025-01-05T08:36:51.779013Z"
    }
   },
   "id": "4dc3664e6d4f813b",
   "execution_count": 117
  },
  {
   "cell_type": "code",
   "outputs": [
    {
     "name": "stdout",
     "output_type": "stream",
     "text": [
      "[[ 4  5  6]\n",
      " [ 8 10 12]\n",
      " [12 15 18]]\n"
     ]
    }
   ],
   "source": [
    "### outer: 计算两个向量的外积 | Compute the outer product of two vectors.\n",
    "a = np.array([1, 2, 3])\n",
    "b = np.array([4, 5, 6])\n",
    "print(np.outer(a, b))  # 输出: array([[ 4,  5,  6], [ 8, 10, 12], [12, 15, 18]])"
   ],
   "metadata": {
    "collapsed": false,
    "ExecuteTime": {
     "end_time": "2025-01-05T08:36:51.878549Z",
     "start_time": "2025-01-05T08:36:51.867030Z"
    }
   },
   "id": "d8d1b3e4d344a38c",
   "execution_count": 118
  },
  {
   "cell_type": "code",
   "outputs": [
    {
     "name": "stdout",
     "output_type": "stream",
     "text": [
      "(3, 3) (2,) (2, 2)\n"
     ]
    }
   ],
   "source": [
    "### linalg.svd: 奇异值分解 | Singular Value Decomposition.\n",
    "a = np.random.randn(3, 2)\n",
    "U, s, Vt = np.linalg.svd(a)\n",
    "print(U.shape, s.shape, Vt.shape)  # 输出: (3, 3) (2,) (2, 2)"
   ],
   "metadata": {
    "collapsed": false,
    "ExecuteTime": {
     "end_time": "2025-01-05T08:36:51.925357Z",
     "start_time": "2025-01-05T08:36:51.908510Z"
    }
   },
   "id": "8c40bcec0cbe96ce",
   "execution_count": 119
  },
  {
   "cell_type": "code",
   "outputs": [
    {
     "name": "stdout",
     "output_type": "stream",
     "text": [
      "(70-8j)\n"
     ]
    }
   ],
   "source": [
    "### vdot: 返回两个向量的点积 | Return the dot product of two vectors.\n",
    "a = np.array([1+2j, 3+4j])\n",
    "b = np.array([5+6j, 7+8j])\n",
    "print(np.vdot(a, b))  # 输出: (70-8j)"
   ],
   "metadata": {
    "collapsed": false,
    "ExecuteTime": {
     "end_time": "2025-01-05T08:36:51.956965Z",
     "start_time": "2025-01-05T08:36:51.943359Z"
    }
   },
   "id": "82554bc8f3c22ee2",
   "execution_count": 120
  },
  {
   "cell_type": "markdown",
   "source": [
    "## 广播原则 | Broadcasting\n",
    "\n",
    "广播是NumPy中一种强大的机制,它允许不同形状的数组进行算术运算。广播规则决定了如何处理不同形状的数组,使它们兼容并可以进行元素级运算。\n",
    "Broadcasting is a powerful mechanism in NumPy that allows arrays with different shapes to perform arithmetic operations. The broadcasting rules determine how to handle arrays with different shapes, making them compatible and enabling element-wise operations.\n",
    "\n",
    "广播的主要规则如下：\n",
    "The main rules of broadcasting are as follows:\n",
    "\n",
    "1. 如果两个数组的维度数不相等,那么小维度数组的形状将会在最左边补1,直到两个数组的维度数相等。\n",
    "If the number of dimensions of the two arrays is not equal, the shape of the array with fewer dimensions will be padded with 1s on the left until the number of dimensions of the two arrays is equal.\n",
    "\n",
    "2. 如果两个数组在某个维度上的长度相符或其中一个数组在该维度上长度为1,那么这两个数组就可以在该维度上进行运算。\n",
    "If the length of the two arrays matches in a certain dimension, or one of the arrays has a length of 1 in that dimension, then the two arrays can be operated on in that dimension.\n",
    "\n",
    "3. 如果两个数组在所有维度上都满足规则2,那么它们就可以进行广播。\n",
    "If the two arrays satisfy rule 2 in all dimensions, then they can be broadcast.\n",
    "\n",
    "4. 广播之后,每个数组的行为就像它的形状与输出广播的形状相同。\n",
    "After broadcasting, each array behaves as if its shape is the same as the broadcast output shape."
   ],
   "metadata": {
    "collapsed": false
   },
   "id": "ab7af6c2190a37c5"
  },
  {
   "cell_type": "code",
   "outputs": [
    {
     "name": "stdout",
     "output_type": "stream",
     "text": [
      "[5 7 9]\n",
      "[5 6 7]\n",
      "[[11 22 33]\n",
      " [14 25 36]]\n",
      "[[11 12 13]\n",
      " [14 15 16]]\n"
     ]
    }
   ],
   "source": [
    "# 例1: 两个一维数组相加 | Example 1: Adding two one-dimensional arrays\n",
    "a = np.array([1, 2, 3])\n",
    "b = np.array([4, 5, 6])\n",
    "print(a + b)  # 输出 | Output: array([5, 7, 9])\n",
    "\n",
    "# 例2: 一维数组与一个数相加 | Example 2: Adding a one-dimensional array and a number\n",
    "a = np.array([1, 2, 3])\n",
    "print(a + 4)  # 输出 | Output: array([5, 6, 7])\n",
    "\n",
    "# 例3: 二维数组与一维数组相加 | Example 3: Adding a two-dimensional array and a one-dimensional array\n",
    "a = np.array([[1, 2, 3], [4, 5, 6]])\n",
    "b = np.array([10, 20, 30])\n",
    "print(a + b)\n",
    "# 输出 | Output:\n",
    "# array([[11, 22, 33],\n",
    "#        [14, 25, 36]])\n",
    "\n",
    "# 例4: 二维数组与一个数相加 | Example 4: Adding a two-dimensional array and a number\n",
    "a = np.array([[1, 2, 3], [4, 5, 6]])\n",
    "print(a + 10)\n",
    "# 输出 | Output:\n",
    "# array([[11, 12, 13],\n",
    "#        [14, 15, 16]])"
   ],
   "metadata": {
    "collapsed": false,
    "ExecuteTime": {
     "end_time": "2025-01-05T10:36:59.312519Z",
     "start_time": "2025-01-05T10:36:59.306322Z"
    }
   },
   "id": "c5674cd7fe70809e",
   "execution_count": 3
  },
  {
   "cell_type": "markdown",
   "id": "dac619245bdfbe36",
   "metadata": {},
   "source": [
    "#### 更多阅读 | More Resources\n",
    "\n",
    "- [NumPy官方入门教程(英文) | Official NumPy tutorial](https://numpy.org/devdocs/user/quickstart.html)\n",
    "- [NumPy参考手册(英文) | NumPy Reference](https://numpy.org/doc/stable/reference/index.html)\n",
    "- [SciPy讲义:NumPy入门(英文) | SciPy Lecture Notes: NumPy](https://scipy-lectures.org/intro/numpy/index.html)"
   ]
  }
 ],
 "metadata": {
  "kernelspec": {
   "display_name": "Python 3 (ipykernel)",
   "language": "python",
   "name": "python3"
  },
  "language_info": {
   "codemirror_mode": {
    "name": "ipython",
    "version": 3
   },
   "file_extension": ".py",
   "mimetype": "text/x-python",
   "name": "python",
   "nbconvert_exporter": "python",
   "pygments_lexer": "ipython3",
   "version": "3.7.9"
  }
 },
 "nbformat": 4,
 "nbformat_minor": 5
}
