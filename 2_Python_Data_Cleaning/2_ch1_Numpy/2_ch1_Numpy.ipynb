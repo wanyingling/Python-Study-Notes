{
 "cells": [
  {
   "cell_type": "markdown",
   "source": [
    "# NumPy教程 | NumPy Tutorial\n",
    "\n",
    "作者: 宛莹\n",
    "日期: 2025年1月 \n",
    "\n",
    "Author: Wanying\n",
    "Date: January 2025"
   ],
   "metadata": {
    "collapsed": false
   },
   "id": "f3a6e6295e940c06"
  },
  {
   "cell_type": "markdown",
   "source": [
    "## Introduction to Numpy | Numpy简介\n",
    "\n",
    "Numpy is the fundamental package for scientific computing in Python. It provides a multidimensional array object, various derived objects (such as masked arrays and matrices), and an assortment of routines for fast operations on arrays, including mathematical, logical, shape manipulation, sorting, selecting, I/O, discrete Fourier transforms, basic linear algebra, basic statistical operations, random simulation and much more.\n",
    "\n",
    "Numpy是Python科学计算的基础包。它提供了多维数组对象、各种派生对象(如掩码数组和矩阵)以及一系列用于数组快速操作的例程,包括数学、逻辑、形状操作、排序、选择、I/O、离散傅里叶变换、基本线性代数、基本统计运算、随机模拟等。"
   ],
   "metadata": {
    "collapsed": false
   },
   "id": "c8be7e7ae813a314"
  },
  {
   "cell_type": "markdown",
   "source": [
    "## Installing Numpy | 安装Numpy\n",
    "\n",
    "If you are using Anaconda, Numpy is already installed. You can check the installation using the following command in your terminal or Anaconda Prompt:\n",
    "如果你使用的是Anaconda,那么Numpy已经安装好了。你可以在终端或Anaconda Prompt中使用以下命令检查安装情况:\n",
    "\n",
    "```bash\n",
    "conda list numpy\n",
    "```\n",
    "\n",
    "If you are using Python from the official website, you can install Numpy using pip:\n",
    "如果你使用的是官网的Python,你可以使用pip安装Numpy:\n",
    "\n",
    "```bash\n",
    "pip install numpy\n",
    "```"
   ],
   "metadata": {
    "collapsed": false
   },
   "id": "39ef78ce6e63d01"
  },
  {
   "cell_type": "markdown",
   "source": [
    "## Creating Arrays | 创建数组\n",
    "\n",
    "### Basic Methods | 基本方法\n",
    "\n",
    "The basic method to create an array is using the `array()` function. For one-dimensional arrays, you can directly pass a list or tuple:\n",
    "创建数组的基本方法是使用`array()`函数。对于一维数组,你可以直接传入一个列表或元组:"
   ],
   "metadata": {
    "collapsed": false
   },
   "id": "b45fac769a8379a3"
  },
  {
   "cell_type": "code",
   "outputs": [
    {
     "name": "stdout",
     "output_type": "stream",
     "text": [
      "[1 2 3]\n",
      "[4 5 6]\n"
     ]
    }
   ],
   "source": [
    "import numpy as np\n",
    "\n",
    "a1 = np.array([1, 2, 3])  # Create from list | 从列表创建\n",
    "print(a1)  \n",
    "\n",
    "a2 = np.array((4, 5, 6))  # Create from tuple | 从元组创建 \n",
    "print(a2)  "
   ],
   "metadata": {
    "collapsed": false,
    "ExecuteTime": {
     "end_time": "2025-01-06T02:34:48.052533Z",
     "start_time": "2025-01-06T02:34:47.362232Z"
    }
   },
   "id": "8cf05f1f1ed72550",
   "execution_count": 2
  },
  {
   "cell_type": "markdown",
   "source": [
    "For multidimensional arrays, you can use nested lists or tuples:\n",
    "对于多维数组,你可以使用嵌套的列表或元组:"
   ],
   "metadata": {
    "collapsed": false
   },
   "id": "98aec5b3c81c018b"
  },
  {
   "cell_type": "code",
   "outputs": [
    {
     "name": "stdout",
     "output_type": "stream",
     "text": [
      "[[1 2]\n",
      " [3 4]]\n",
      "[[1 2 3]\n",
      " [4 5 6]]\n"
     ]
    }
   ],
   "source": [
    "a3 = np.array([[1, 2], [3, 4]])  # Create 2D array from nested lists | 从嵌套列表创建二维数组\n",
    "print(a3)\n",
    "\n",
    "a4 = np.array(((1, 2, 3), (4, 5, 6)))  # Create 2D array from nested tuples | 从嵌套元组创建二维数组\n",
    "print(a4)  \n"
   ],
   "metadata": {
    "collapsed": false,
    "ExecuteTime": {
     "end_time": "2025-01-06T02:34:57.804722Z",
     "start_time": "2025-01-06T02:34:57.795418Z"
    }
   },
   "id": "ad1b1eaac75f80cd",
   "execution_count": 3
  },
  {
   "cell_type": "markdown",
   "source": [
    "### Other Methods | 其他方法\n",
    "\n",
    "There are many other convenience functions to create arrays:\n",
    "还有许多其他方便的函数可以创建数组:\n",
    "\n",
    "- `arange()`: Create arrays with regularly incrementing values | 创建等差数列数组\n",
    "- `linspace()`: Create arrays with a specified number of elements, and spacing between the elements | 创建指定元素数量和元素间距的数组\n",
    "- `ones()`, `zeros()`, `eye()`: Create arrays filled with ones, zeros, or identity matrix | 创建全1、全0或单位矩阵数组\n",
    "- `random.random()`: Create arrays with random values | 创建随机值数组"
   ],
   "metadata": {
    "collapsed": false
   },
   "id": "85eb53ec07713243"
  },
  {
   "cell_type": "code",
   "outputs": [
    {
     "name": "stdout",
     "output_type": "stream",
     "text": [
      "[1 3 5 7 9]\n",
      "[0.   0.25 0.5  0.75 1.  ]\n",
      "[[1. 1. 1.]\n",
      " [1. 1. 1.]\n",
      " [1. 1. 1.]]\n",
      "[[0.15937635 0.44721265]\n",
      " [0.15468293 0.22190239]]\n"
     ]
    }
   ],
   "source": [
    "a5 = np.arange(1, 10, 2)  # Start, end (exclusive), step | 起始值、终止值(不包含)、步长\n",
    "print(a5) \n",
    "\n",
    "a6 = np.linspace(0, 1, 5)  # Start, end, num of elements | 起始值、终止值、元素数量  \n",
    "print(a6)  \n",
    "\n",
    "a7 = np.ones((3, 3))  # Shape as tuple | 形状作为元组参数\n",
    "print(a7)  \n",
    "\n",
    "a8 = np.random.random((2, 2))  # Random values in given shape | 指定形状的随机值数组\n",
    "print(a8)  "
   ],
   "metadata": {
    "collapsed": false,
    "ExecuteTime": {
     "end_time": "2025-01-06T02:35:28.381779Z",
     "start_time": "2025-01-06T02:35:28.366649Z"
    }
   },
   "id": "24c9e761971bc5f1",
   "execution_count": 4
  },
  {
   "cell_type": "markdown",
   "source": [
    "## Array Attributes | 数组属性\n",
    "\n",
    "Numpy arrays have several attributes that describe their properties:\n",
    "Numpy数组有几个属性描述了它们的特性:\n",
    "\n",
    "- `ndim`: The number of dimensions or axes of the array | 数组的维度数或轴数\n",
    "- `shape`: The size of the array in each dimension, as a tuple | 数组在每个维度上的大小,以元组表示  \n",
    "- `size`: The total number of elements in the array | 数组中元素的总数\n",
    "- `dtype`: The data type of the array elements | 数组元素的数据类型\n",
    "- `itemsize`: The size in bytes of each array element | 每个数组元素的字节大小"
   ],
   "metadata": {
    "collapsed": false
   },
   "id": "202e38836ab3e123"
  },
  {
   "cell_type": "code",
   "outputs": [
    {
     "name": "stdout",
     "output_type": "stream",
     "text": [
      "ndim: 3\n",
      "shape: (2, 3, 4)\n",
      "size: 24\n",
      "dtype: int32\n",
      "itemsize: 4\n"
     ]
    }
   ],
   "source": [
    "a9 = np.arange(24).reshape((2, 3, 4))  # 3D array | 三维数组\n",
    "print(f\"ndim: {a9.ndim}\")  # Output: ndim: 3\n",
    "print(f\"shape: {a9.shape}\")  # Output: shape: (2, 3, 4)  \n",
    "print(f\"size: {a9.size}\")  # Output: size: 24\n",
    "print(f\"dtype: {a9.dtype}\")  # Output: dtype: int64\n",
    "print(f\"itemsize: {a9.itemsize}\")  # Output: itemsize: 8"
   ],
   "metadata": {
    "collapsed": false,
    "ExecuteTime": {
     "end_time": "2025-01-06T02:35:31.703175Z",
     "start_time": "2025-01-06T02:35:31.688836Z"
    }
   },
   "id": "54e189eeea2e5e79",
   "execution_count": 5
  },
  {
   "cell_type": "markdown",
   "source": [
    "\n",
    "## Reshaping Arrays | 改变数组形状\n",
    "\n",
    "You can change the shape of an array using various methods:\n",
    "你可以使用多种方法改变数组的形状:\n",
    "\n",
    "- `reshape()`: Returns a new array with the specified shape | 返回指定形状的新数组\n",
    "- `resize()`: Changes the shape of the original array | 改变原数组的形状\n",
    "- `flatten()`, `ravel()`: Returns a flattened 1D array | 返回展平的一维数组  \n",
    "- `transpose()`, `T`: Transposes the array | 转置数组"
   ],
   "metadata": {
    "collapsed": false
   },
   "id": "d4606c8fac2168d7"
  },
  {
   "cell_type": "code",
   "outputs": [
    {
     "name": "stdout",
     "output_type": "stream",
     "text": [
      "[[ 0  1  2  3]\n",
      " [ 4  5  6  7]\n",
      " [ 8  9 10 11]]\n",
      "[[ 0  1  2]\n",
      " [ 3  4  5]\n",
      " [ 6  7  8]\n",
      " [ 9 10 11]]\n",
      "[ 0  1  2  3  4  5  6  7  8  9 10 11]\n",
      "[[ 0  4  8]\n",
      " [ 1  5  9]\n",
      " [ 2  6 10]\n",
      " [ 3  7 11]]\n"
     ]
    }
   ],
   "source": [
    "a10 = np.arange(12).reshape((3, 4))\n",
    "print(a10)\n",
    "\n",
    "a11 = a10.reshape((4, 3))  # New shape must be compatible | 新形状必须兼容\n",
    "print(a11)\n",
    "\n",
    "a12 = a10.flatten()  # Flatten to 1D | 展平为一维  \n",
    "print(a12)  \n",
    "\n",
    "a13 = a10.T  # Transpose | 转置\n",
    "print(a13)\n"
   ],
   "metadata": {
    "collapsed": false,
    "ExecuteTime": {
     "end_time": "2025-01-06T02:36:05.656906Z",
     "start_time": "2025-01-06T02:36:05.645557Z"
    }
   },
   "id": "dfa5a494432e3327",
   "execution_count": 6
  },
  {
   "cell_type": "markdown",
   "source": [
    "\n",
    "## Concatenating and Splitting Arrays | 数组的拼接与分割\n",
    "\n",
    "You can join multiple arrays together using various methods:\n",
    "你可以使用多种方法将多个数组拼接在一起:\n",
    "\n",
    "- `concatenate()`: Joins arrays along an existing axis \n",
    "- 沿现有轴拼接数组\n",
    "- `stack()`: Joins arrays along a new axis\n",
    "- 沿新轴拼接数组  \n",
    "- `hstack()`: Stacks arrays horizontally (column-wise) \n",
    "- 水平(按列)堆叠数组\n",
    "- `vstack()`: Stacks arrays vertically (row-wise)\n",
    "- 垂直(按行)堆叠数组\n",
    "\n",
    "You can also split arrays into multiple sub-arrays:\n",
    "你也可以将数组分割成多个子数组:\n",
    "\n",
    "- `split()`, `hsplit()`, `vsplit()`: Splits an array into multiple sub-arrays\n",
    "- 将数组分割成多个子数组"
   ],
   "metadata": {
    "collapsed": false
   },
   "id": "85ad39d27bb5cfc6"
  },
  {
   "cell_type": "code",
   "outputs": [
    {
     "name": "stdout",
     "output_type": "stream",
     "text": [
      "[[1 2]\n",
      " [3 4]\n",
      " [5 6]\n",
      " [7 8]]\n",
      "[[1 2 5 6]\n",
      " [3 4 7 8]]\n",
      "[[1 2]\n",
      " [3 4]\n",
      " [5 6]\n",
      " [7 8]]\n",
      "[[1 2]\n",
      " [3 4]]\n",
      "[[5 6]\n",
      " [7 8]]\n"
     ]
    }
   ],
   "source": [
    "a14 = np.array([[1, 2], [3, 4]])\n",
    "a15 = np.array([[5, 6], [7, 8]])\n",
    "\n",
    "a16 = np.concatenate((a14, a15), axis=0)  # Concatenate along first axis (rows) | 沿第一个轴(行)拼接\n",
    "print(a16)\n",
    "\n",
    "a17 = np.concatenate((a14, a15), axis=1)  # Concatenate along second axis (columns) | 沿第二个轴(列)拼接  \n",
    "print(a17)\n",
    "\n",
    "\n",
    "a18 = np.vstack((a14, a15))  # Stack vertically | 垂直堆叠  \n",
    "print(a18)\n",
    "\n",
    "\n",
    "a19, a20 = np.split(a18, 2)  # Split into two sub-arrays vertically | 垂直分割成两个子数组\n",
    "print(a19)\n",
    "\n",
    "print(a20)  "
   ],
   "metadata": {
    "collapsed": false,
    "ExecuteTime": {
     "end_time": "2025-01-06T02:36:43.887763Z",
     "start_time": "2025-01-06T02:36:43.873061Z"
    }
   },
   "id": "b80f0ab5cc1064e7",
   "execution_count": 7
  },
  {
   "cell_type": "markdown",
   "source": [
    "\n",
    "## Indexing and Slicing | 索引与切片\n",
    "\n",
    "You can access array elements using indexing and slicing, similar to Python lists.\n",
    "你可以使用索引和切片访问数组元素,类似于Python列表。\n",
    "\n",
    "### Integer Indexing | 整数索引\n",
    "\n",
    "For multidimensional arrays, indexes are tuples of integers.\n",
    "对于多维数组,索引是整数元组。"
   ],
   "metadata": {
    "collapsed": false
   },
   "id": "2356fd0dd8480229"
  },
  {
   "cell_type": "code",
   "outputs": [
    {
     "name": "stdout",
     "output_type": "stream",
     "text": [
      "[[1 2 3]\n",
      " [4 5 6]\n",
      " [7 8 9]]\n",
      "6\n",
      "[[2 3]\n",
      " [5 6]]\n",
      "[2 5 8]\n",
      "[4 5 6]\n",
      "[1 5 7]\n"
     ]
    }
   ],
   "source": [
    "a21 = np.array([[1, 2, 3], [4, 5, 6], [7, 8, 9]])\n",
    "print(a21)\n",
    "print(a21[1, 2])  # Access single element | 访问单个元素, Output: 6\n",
    "\n",
    "print(a21[0:2, 1:3])  # Slice a subarray | 切片子数组\n",
    "\n",
    "print(a21[:, 1])  # Slice a column | 切片列, Output: [2 5 8]\n",
    "\n",
    "print(a21[1, :])  # Slice a row | 切片行, Output: [4 5 6]\n",
    "\n",
    "print(a21[[0, 1, 2], [0, 1, 0]])  # Fancy indexing | 花式索引, Output: [1 5 7]"
   ],
   "metadata": {
    "collapsed": false,
    "ExecuteTime": {
     "end_time": "2025-01-06T02:39:48.952381Z",
     "start_time": "2025-01-06T02:39:48.943530Z"
    }
   },
   "id": "16769bf65cb46de1",
   "execution_count": 9
  },
  {
   "cell_type": "markdown",
   "source": [
    "\n",
    "### Boolean Indexing | 布尔索引\n",
    "\n",
    "You can use boolean arrays to access elements that satisfy a condition.\n",
    "你可以使用布尔数组访问满足条件的元素。\n"
   ],
   "metadata": {
    "collapsed": false
   },
   "id": "de235e654ab9cc3c"
  },
  {
   "cell_type": "code",
   "outputs": [
    {
     "name": "stdout",
     "output_type": "stream",
     "text": [
      "[[False False]\n",
      " [ True  True]\n",
      " [ True  True]]\n",
      "[3 4 5 6]\n",
      "[[1 2]\n",
      " [0 0]\n",
      " [0 0]]\n"
     ]
    }
   ],
   "source": [
    "a22 = np.array([[1, 2], [3, 4], [5, 6]])\n",
    "\n",
    "bool_idx = (a22 > 2)  # Find elements greater than 2 | 找到大于2的元素\n",
    "print(bool_idx)\n",
    "\n",
    "print(a22[bool_idx])  # Use boolean array for indexing | 使用布尔数组索引\n",
    "\n",
    "a22[bool_idx] = 0  # Assign new value to elements satisfying condition | 为满足条件的元素赋新值\n",
    "print(a22)\n"
   ],
   "metadata": {
    "collapsed": false,
    "ExecuteTime": {
     "end_time": "2025-01-06T02:56:03.636942Z",
     "start_time": "2025-01-06T02:56:03.624059Z"
    }
   },
   "id": "117dcb03e7a7e293",
   "execution_count": 10
  },
  {
   "cell_type": "markdown",
   "source": [
    "## Array Manipulation | 数组操作\n",
    "\n",
    "Numpy provides many functions to insert, delete, and modify array elements.\n",
    "Numpy提供了许多函数来插入、删除和修改数组元素。"
   ],
   "metadata": {
    "collapsed": false
   },
   "id": "9bcf82306f292e3a"
  },
  {
   "cell_type": "markdown",
   "source": [
    "### Inserting Elements | 插入元素\n",
    "\n",
    "- `np.insert()`: Inserts values into an array at specified positions.\n",
    "在指定位置插入值到数组中。"
   ],
   "metadata": {
    "collapsed": false
   },
   "id": "58bebfb27f81e13f"
  },
  {
   "cell_type": "code",
   "outputs": [
    {
     "name": "stdout",
     "output_type": "stream",
     "text": [
      "[[1 2]\n",
      " [3 4]\n",
      " [5 6]]\n",
      "[[1 2]\n",
      " [5 5]\n",
      " [3 4]\n",
      " [5 6]]\n",
      "[[1 7 2]\n",
      " [3 8 4]\n",
      " [5 9 6]]\n"
     ]
    }
   ],
   "source": [
    "a23 = np.array([[1, 2], [3, 4], [5, 6]])\n",
    "print(a23)\n",
    "\n",
    "a24 = np.insert(a23, 1, 5, axis=0)  # Insert 5 at index 1 along axis 0 | 在轴0的索引1处插入5  \n",
    "print(a24)\n",
    "\n",
    "a25 = np.insert(a23, 1, [7, 8, 9], axis=1)  # Insert [7,8,9] at index 1 along axis 1 | 在轴1的索引1处插入[7,8,9]\n",
    "print(a25)"
   ],
   "metadata": {
    "collapsed": false,
    "ExecuteTime": {
     "end_time": "2025-01-06T02:56:39.791189Z",
     "start_time": "2025-01-06T02:56:39.782266Z"
    }
   },
   "id": "e0b10184c3ee8546",
   "execution_count": 12
  },
  {
   "cell_type": "markdown",
   "source": [
    "### Deleting Elements | 删除元素\n",
    "\n",
    "- `np.delete()`: Deletes values from an array at specified positions.\n",
    "- 在指定位置删除数组中的值\n"
   ],
   "metadata": {
    "collapsed": false
   },
   "id": "6f0d1d2e8c75ae08"
  },
  {
   "cell_type": "code",
   "outputs": [
    {
     "name": "stdout",
     "output_type": "stream",
     "text": [
      "[[1 2 3]\n",
      " [7 8 9]]\n",
      "[[1 3]\n",
      " [4 6]\n",
      " [7 9]]\n"
     ]
    }
   ],
   "source": [
    "a26 = np.array([[1, 2, 3], [4, 5, 6], [7, 8, 9]])\n",
    "\n",
    "a27 = np.delete(a26, 1, axis=0)  # Delete row at index 1 | 删除索引1处的行\n",
    "print(a27)  \n",
    "\n",
    "a28 = np.delete(a26, 1, axis=1)  # Delete column at index 1 | 删除索引1处的列\n",
    "print(a28)"
   ],
   "metadata": {
    "collapsed": false,
    "ExecuteTime": {
     "end_time": "2025-01-06T02:56:53.655189Z",
     "start_time": "2025-01-06T02:56:53.647813Z"
    }
   },
   "id": "5de65d59d17d2554",
   "execution_count": 13
  },
  {
   "cell_type": "markdown",
   "source": [
    "### Searching Elements | 查找元素\n",
    "\n",
    "- `np.where()`: Returns the indices of elements that satisfy a condition.\n",
    "- 返回满足条件的元素的索引\n",
    "- `np.argmax()`, `np.argmin()`: Returns the indices of the maximum and minimum values.\n",
    "- 返回最大值和最小值的索引\n",
    "- `np.nonzero()`: Returns the indices of non-zero elements.\n",
    "- 返回非零元素的索引"
   ],
   "metadata": {
    "collapsed": false
   },
   "id": "ef8c378c59a8c8f3"
  },
  {
   "cell_type": "code",
   "outputs": [
    {
     "name": "stdout",
     "output_type": "stream",
     "text": [
      "(array([1, 2, 2, 2], dtype=int64), array([2, 0, 1, 2], dtype=int64))\n",
      "[6 7 8 9]\n",
      "8\n",
      "0\n",
      "(array([0, 0, 0, 1, 1, 1, 2, 2, 2], dtype=int64), array([0, 1, 2, 0, 1, 2, 0, 1, 2], dtype=int64))\n"
     ]
    }
   ],
   "source": [
    "a29 = np.array([[1, 2, 3], [4, 5, 6], [7, 8, 9]])\n",
    "\n",
    "idx = np.where(a29 > 5)  # Find indices of elements greater than 5 | 找到大于5的元素的索引\n",
    "print(idx) \n",
    "\n",
    "print(a29[idx])  # Use indices for indexing | 使用索引进行索引\n",
    "\n",
    "max_idx = np.argmax(a29)  # Find index of maximum value | 找到最大值的索引  \n",
    "print(max_idx)  # Output: 8\n",
    "\n",
    "min_idx = np.argmin(a29)  # Find index of minimum value | 找到最小值的索引\n",
    "print(min_idx)  # Output: 0\n",
    "\n",
    "nz_idx = np.nonzero(a29)  # Find indices of non-zero elements | 找到非零元素的索引  \n",
    "print(nz_idx)  # Output: (array([0, 0, 0, 1, 1, 1, 2, 2, 2]), array([0, 1, 2, 0, 1, 2, 0, 1, 2]))"
   ],
   "metadata": {
    "collapsed": false,
    "ExecuteTime": {
     "end_time": "2025-01-06T02:57:06.684513Z",
     "start_time": "2025-01-06T02:57:06.667994Z"
    }
   },
   "id": "4d524897c75aa919",
   "execution_count": 14
  },
  {
   "cell_type": "markdown",
   "source": [
    "### Modifying Elements | 修改元素\n",
    "\n",
    "You can use indexing to modify elements, or use functions like:\n",
    "\n",
    "你可以使用索引修改元素,或使用如下函数:\n",
    "\n",
    "- `np.put()`: Replaces specified elements of an array with given values | 用给定值替换数组中的指定元素\n",
    "- `np.place()`: Changes elements of an array based on a condition | 根据条件修改数组中的元素\n",
    "- `np.clip()`: Clips (limits) the values in an array | 裁剪(限制)数组中的值"
   ],
   "metadata": {
    "collapsed": false
   },
   "id": "9db9a6b661aac6d"
  },
  {
   "cell_type": "code",
   "outputs": [
    {
     "name": "stdout",
     "output_type": "stream",
     "text": [
      "[[10  2 30]\n",
      " [ 4  5  6]\n",
      " [ 7  8  9]]\n",
      "[[1 2 3]\n",
      " [4 5 0]\n",
      " [0 0 0]]\n",
      "[[3 3 3]\n",
      " [4 5 6]\n",
      " [6 6 6]]\n"
     ]
    }
   ],
   "source": [
    "\n",
    "a30 = np.array([[1, 2, 3], [4, 5, 6], [7, 8, 9]])\n",
    "\n",
    "np.put(a30, [0, 2], [10, 30])  # Put 10 at index 0 and 30 at index 2 | 在索引0处放10,在索引2处放30\n",
    "print(a30)\n",
    "\n",
    "\n",
    "a30 = np.array([[1, 2, 3], [4, 5, 6], [7, 8, 9]])\n",
    "\n",
    "np.place(a30, a30 > 5, 0)  # Replace elements greater than 5 with 0 | 将大于5的元素替换为0  \n",
    "print(a30)\n",
    "\n",
    "\n",
    "a30 = np.array([[1, 2, 3], [4, 5, 6], [7, 8, 9]])\n",
    "\n",
    "print(np.clip(a30, 3, 6))  # Limit elements to range [3, 6] | 将元素限制在[3, 6]范围内\n"
   ],
   "metadata": {
    "collapsed": false,
    "ExecuteTime": {
     "end_time": "2025-01-06T02:57:25.011117Z",
     "start_time": "2025-01-06T02:57:25.004530Z"
    }
   },
   "id": "d43c17d86ca186b4",
   "execution_count": 15
  },
  {
   "cell_type": "markdown",
   "source": [
    "## Array Mathematics | 数组运算\n",
    "\n",
    "Numpy provides a wide range of mathematical functions that operate element-wise on arrays.\n",
    "Numpy提供了大量的数学函数,可以在数组上进行元素级操作。"
   ],
   "metadata": {
    "collapsed": false
   },
   "id": "db07afccb6d4e"
  },
  {
   "cell_type": "code",
   "outputs": [
    {
     "name": "stdout",
     "output_type": "stream",
     "text": [
      "[5 7 9]\n",
      "[ 4 10 18]\n",
      "[0.25 0.4  0.5 ]\n",
      "[1 4 9]\n",
      "[0.84147098 0.90929743 0.14112001]\n",
      "[0.         0.69314718 1.09861229]\n",
      "[ 2.71828183  7.3890561  20.08553692]\n"
     ]
    }
   ],
   "source": [
    "\n",
    "a31 = np.array([1, 2, 3])\n",
    "a32 = np.array([4, 5, 6])\n",
    "\n",
    "print(a31 + a32)  # Element-wise addition | 元素级加法, Output: [5 7 9]\n",
    "print(a31 * a32)  # Element-wise multiplication | 元素级乘法, Output: [ 4 10 18]\n",
    "print(a31 / a32)  # Element-wise division | 元素级除法, Output: [0.25 0.4  0.5 ]\n",
    "print(a31 ** 2)  # Element-wise square | 元素级平方, Output: [1 4 9]\n",
    "print(np.sin(a31))  # Sine of each element | 每个元素的正弦, Output: [0.84147098 0.90929743 0.14112001]\n",
    "print(np.log(a31))  # Natural logarithm of each element | 每个元素的自然对数, Output: [0.         0.69314718 1.09861229]\n",
    "print(np.exp(a31))  # Exponential of each element | 每个元素的指数, Output: [ 2.71828183  7.3890561  20.08553692]\n"
   ],
   "metadata": {
    "collapsed": false,
    "ExecuteTime": {
     "end_time": "2025-01-06T02:57:39.421398Z",
     "start_time": "2025-01-06T02:57:39.409312Z"
    }
   },
   "id": "ba9d59fcca80df5",
   "execution_count": 16
  },
  {
   "cell_type": "markdown",
   "source": [
    "## Broadcasting | 广播机制\n",
    "\n",
    "Broadcasting allows arithmetic operations between arrays with different shapes. Numpy broadcasts the smaller array across the larger array so that they have compatible shapes.\n",
    "\n",
    "广播允许在不同形状的数组之间进行算术运算。Numpy将较小的数组广播到较大的数组上,使它们具有兼容的形状。"
   ],
   "metadata": {
    "collapsed": false
   },
   "id": "6d75996fc0a85aeb"
  },
  {
   "cell_type": "code",
   "outputs": [
    {
     "name": "stdout",
     "output_type": "stream",
     "text": [
      "[[ 2  2  4]\n",
      " [ 5  5  7]\n",
      " [ 8  8 10]\n",
      " [11 11 13]]\n"
     ]
    }
   ],
   "source": [
    "a33 = np.array([[1, 2, 3], [4, 5, 6], [7, 8, 9], [10, 11, 12]])\n",
    "a34 = np.array([1, 0, 1])\n",
    "\n",
    "print(a33 + a34)  # Broadcasting a34 to each row of a33 | 将a34广播到a33的每一行\n"
   ],
   "metadata": {
    "collapsed": false,
    "ExecuteTime": {
     "end_time": "2025-01-06T02:57:50.889141Z",
     "start_time": "2025-01-06T02:57:50.878731Z"
    }
   },
   "id": "ebf8e09f9d690bd8",
   "execution_count": 17
  },
  {
   "cell_type": "markdown",
   "source": [
    "\n",
    "## Reading and Writing Files | 文件读写\n",
    "\n",
    "You can read and write arrays from/to files using functions like:\n",
    "\n",
    "你可以使用如下函数从文件读取数组或将数组写入文件:\n",
    "\n",
    "- `np.loadtxt()`, `np.genfromtxt()`: Reads data from a text file | 从文本文件读取数据\n",
    "- `np.savetxt()`: Writes an array to a text file | 将数组写入文本文件  \n",
    "- `np.load()`: Loads arrays or pickled objects from .npy, .npz or pickled files | 从.npy, .npz或pickle文件加载数组或pickle对象\n",
    "- `np.save()`, `np.savez()`: Saves arrays to a binary file in .npy or .npz format | 将数组保存为.npy或.npz格式的二进制文件"
   ],
   "metadata": {
    "collapsed": false
   },
   "id": "a99ce5748bd8478c"
  },
  {
   "cell_type": "code",
   "outputs": [
    {
     "name": "stdout",
     "output_type": "stream",
     "text": [
      "[[ 1. 98.  5.]\n",
      " [ 2. 80.  7.]\n",
      " [ 3. 62.  9.]\n",
      " [ 4. 44. 11.]\n",
      " [ 5. 26. 13.]]\n",
      "[[ 1. 98.  5.]\n",
      " [ 2. 80.  7.]\n",
      " [ 3. 62.  9.]\n",
      " [ 4. 44. 11.]\n",
      " [ 5. 26. 13.]]\n"
     ]
    }
   ],
   "source": [
    "data = np.loadtxt('working_data/data.txt')  # Load data from text file | 从文本文件加载数据\n",
    "print(data)\n",
    "\n",
    "np.savetxt('working_data/data_out.txt', data)  # Save data to text file | 将数据保存到文本文件\n",
    "\n",
    "np.save('working_data/data.npy', data)  # Save data to .npy file | 将数据保存到.npy文件\n",
    "loaded_data = np.load('working_data/data.npy')  # Load data from .npy file | 从.npy文件加载数据  \n",
    "print(loaded_data)"
   ],
   "metadata": {
    "collapsed": false,
    "ExecuteTime": {
     "end_time": "2025-01-06T03:03:18.662761Z",
     "start_time": "2025-01-06T03:03:18.644164Z"
    }
   },
   "id": "60a0da770c1abec2",
   "execution_count": 27
  },
  {
   "cell_type": "markdown",
   "source": [
    "\n",
    "## Interesting Examples | 有趣的示例\n",
    "\n",
    "### Image Processing | 图像处理\n",
    "\n",
    "You can use Numpy to manipulate images, which are essentially 2D or 3D arrays.\n",
    "你可以使用Numpy操作图像,图像本质上是2D或3D数组。"
   ],
   "metadata": {
    "collapsed": false
   },
   "id": "c22a51b86b819317"
  },
  {
   "cell_type": "code",
   "outputs": [
    {
     "data": {
      "text/plain": "<Figure size 640x480 with 1 Axes>",
      "image/png": "[encoded data removed]"
     },
     "metadata": {},
     "output_type": "display_data"
    },
    {
     "data": {
      "text/plain": "<Figure size 640x480 with 1 Axes>",
      "image/png": "[encoded data removed]"
     },
     "metadata": {},
     "output_type": "display_data"
    },
    {
     "data": {
      "text/plain": "<Figure size 640x480 with 1 Axes>",
      "image/png": "[encoded data removed]"
     },
     "metadata": {},
     "output_type": "display_data"
    }
   ],
   "source": [
    "\n",
    "import numpy as np\n",
    "import matplotlib.pyplot as plt\n",
    "\n",
    "# Create a sample image | 创建一个示例图像\n",
    "image = np.zeros((256, 256, 3), dtype=np.uint8)  # 3D array with shape (256, 256, 3) | 形状为(256, 256, 3)的3D数组\n",
    "image[:, :, 0] = np.linspace(0, 255, 256)  # Red channel | 红色通道\n",
    "image[:, :, 1] = np.linspace(0, 255, 256).reshape(256, 1)  # Green channel | 绿色通道  \n",
    "image[:, :, 2] = np.linspace(0, 255, 256).reshape(1, 256)  # Blue channel | 蓝色通道\n",
    "\n",
    "plt.imshow(image)\n",
    "plt.title('Gradient Image')\n",
    "plt.axis('off')  \n",
    "plt.show()\n",
    "\n",
    "# Flip the image | 翻转图像  \n",
    "flipped = np.flip(image, axis=0)  # Flip vertically | 垂直翻转\n",
    "plt.imshow(flipped)\n",
    "plt.title('Flipped Image')  \n",
    "plt.axis('off')\n",
    "plt.show()\n",
    "\n",
    "# Rotate the image | 旋转图像\n",
    "rotated = np.rot90(image, k=1)  # Rotate 90 degrees counterclockwise | 逆时针旋转90度  \n",
    "plt.imshow(rotated)\n",
    "plt.title('Rotated Image')\n",
    "plt.axis('off')  \n",
    "plt.show()\n"
   ],
   "metadata": {
    "collapsed": false,
    "ExecuteTime": {
     "end_time": "2025-01-06T03:03:21.530477Z",
     "start_time": "2025-01-06T03:03:21.420715Z"
    }
   },
   "id": "dd35ab4c9a025bdc",
   "execution_count": 28
  },
  {
   "cell_type": "markdown",
   "source": [
    "\n",
    "### Data Analysis | 数据分析\n",
    "\n",
    "Numpy is often used for data analysis tasks, such as computing statistics, filtering data, etc.\n",
    "Numpy经常用于数据分析任务,例如计算统计量、过滤数据等。"
   ],
   "metadata": {
    "collapsed": false
   },
   "id": "689b0665f5ffebef"
  },
  {
   "cell_type": "code",
   "outputs": [
    {
     "name": "stdout",
     "output_type": "stream",
     "text": [
      "Mean: [ 3.18145324e-05  2.20575050e-02 -6.80869433e-02  2.45138932e-02\n",
      "  2.17467333e-02]\n",
      "Standard Deviation: [1.04033541 1.01893374 0.96731324 0.94826274 1.02348557]\n",
      "Number of positive samples: 23\n",
      "Normalized data mean: [-6.06181771e-17 -1.72084569e-18  1.00586206e-16  1.80411242e-17\n",
      " -4.62963001e-17]\n",
      "Normalized data standard deviation: [1. 1. 1. 1. 1.]\n"
     ]
    }
   ],
   "source": [
    "\n",
    "# Create a sample dataset | 创建一个示例数据集\n",
    "data = np.random.normal(loc=0, scale=1, size=(1000, 5))  # 1000 samples, 5 features | 1000个样本,5个特征\n",
    "\n",
    "print(f\"Mean: {np.mean(data, axis=0)}\")  # Compute mean for each feature | 计算每个特征的均值  \n",
    "print(f\"Standard Deviation: {np.std(data, axis=0)}\")  # Compute standard deviation for each feature | 计算每个特征的标准差\n",
    "\n",
    "# Filter data based on a condition | 根据条件过滤数据\n",
    "filtered_data = data[np.all(data > 0, axis=1)]  # Keep only positive samples | 只保留正样本  \n",
    "print(f\"Number of positive samples: {filtered_data.shape[0]}\")\n",
    "\n",
    "# Normalize data | 归一化数据  \n",
    "normalized_data = (data - np.mean(data, axis=0)) / np.std(data, axis=0)\n",
    "print(f\"Normalized data mean: {np.mean(normalized_data, axis=0)}\")  \n",
    "print(f\"Normalized data standard deviation: {np.std(normalized_data, axis=0)}\")\n"
   ],
   "metadata": {
    "collapsed": false,
    "ExecuteTime": {
     "end_time": "2025-01-06T02:58:44.776250Z",
     "start_time": "2025-01-06T02:58:44.762383Z"
    }
   },
   "id": "df358f0efb428567",
   "execution_count": 19
  }
 ],
 "metadata": {
  "kernelspec": {
   "display_name": "Python 3 (ipykernel)",
   "language": "python",
   "name": "python3"
  },
  "language_info": {
   "codemirror_mode": {
    "name": "ipython",
    "version": 3
   },
   "file_extension": ".py",
   "mimetype": "text/x-python",
   "name": "python",
   "nbconvert_exporter": "python",
   "pygments_lexer": "ipython3",
   "version": "3.7.9"
  }
 },
 "nbformat": 4,
 "nbformat_minor": 5
}
