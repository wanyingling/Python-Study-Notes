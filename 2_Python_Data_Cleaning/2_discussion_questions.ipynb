{
 "cells": [
  {
   "cell_type": "markdown",
   "source": [
    "# 数据清理 - 思考题目 | Data cleansing - discussion questions\n",
    "\n",
    "来源：E校挺好 - 机器学习与深度学习小组\n",
    "作者：Wanying\n",
    "日期: 2025年1月\n"
   ],
   "metadata": {
    "collapsed": false
   },
   "id": "94e22cc83a9e5aba"
  },
  {
   "cell_type": "code",
   "outputs": [],
   "source": [
    "# 导入需要的库\n",
    "import numpy as np\n",
    "import pandas as pd"
   ],
   "metadata": {
    "collapsed": true,
    "ExecuteTime": {
     "end_time": "2025-01-03T08:18:39.924570Z",
     "start_time": "2025-01-03T08:18:39.919420Z"
    }
   },
   "id": "initial_id",
   "execution_count": 3
  },
  {
   "cell_type": "markdown",
   "source": [
    "（1）如何理解 ndarray 中的 axis=0 和 axis=1？"
   ],
   "metadata": {
    "collapsed": false
   },
   "id": "7e1051063e62fbb"
  },
  {
   "cell_type": "code",
   "outputs": [
    {
     "name": "stdout",
     "output_type": "stream",
     "text": [
      "沿 axis=0 求和（跨行求和，每列相加）:\n",
      "[12 15 18]\n"
     ]
    }
   ],
   "source": [
    "arr = np.array([[1, 2, 3],\n",
    "                [4, 5, 6],\n",
    "                [7, 8, 9]])\n",
    "\n",
    "# axis=0 沿着行方向操作（跨行），也就是对列进行操作\n",
    "print(\"沿 axis=0 求和（跨行求和，每列相加）:\")\n",
    "print(np.sum(arr, axis=0))  # 输出: [12 15 18]"
   ],
   "metadata": {
    "collapsed": false,
    "ExecuteTime": {
     "end_time": "2025-01-03T08:18:42.304609Z",
     "start_time": "2025-01-03T08:18:42.297047Z"
    }
   },
   "id": "64b0b04dbb497efc",
   "execution_count": 4
  },
  {
   "cell_type": "code",
   "outputs": [
    {
     "name": "stdout",
     "output_type": "stream",
     "text": [
      "沿 axis=1 求和（跨列求和，每行相加）:\n",
      "[ 6 15 24]\n"
     ]
    }
   ],
   "source": [
    "# axis=1 沿着列方向操作（跨列），也就是对行进行操作\n",
    "print(\"沿 axis=1 求和（跨列求和，每行相加）:\")\n",
    "print(np.sum(arr, axis=1))  # 输出: [ 6 15 24]"
   ],
   "metadata": {
    "collapsed": false,
    "ExecuteTime": {
     "end_time": "2025-01-03T08:18:44.783372Z",
     "start_time": "2025-01-03T08:18:44.779199Z"
    }
   },
   "id": "f5db4e8e43b867c5",
   "execution_count": 5
  },
  {
   "cell_type": "markdown",
   "source": [
    "（2）如何理解 ndarray 在不同轴上求平均值？"
   ],
   "metadata": {
    "collapsed": false
   },
   "id": "66ef0c54606c7117"
  },
  {
   "cell_type": "code",
   "outputs": [
    {
     "name": "stdout",
     "output_type": "stream",
     "text": [
      "对列求平均（axis=0）:\n",
      "[4. 5. 6.]\n"
     ]
    }
   ],
   "source": [
    "\n",
    "# axis=0 求平均值：对每列的值求平均, 是垂直方向（结果是每列的平均值）\n",
    "print(\"对列求平均（axis=0）:\")\n",
    "print(np.mean(arr, axis=0))  "
   ],
   "metadata": {
    "collapsed": false,
    "ExecuteTime": {
     "end_time": "2025-01-03T08:19:32.963668Z",
     "start_time": "2025-01-03T08:19:32.959648Z"
    }
   },
   "id": "9c7a4f85d67817c4",
   "execution_count": 7
  },
  {
   "cell_type": "code",
   "outputs": [
    {
     "name": "stdout",
     "output_type": "stream",
     "text": [
      "对行求平均（axis=1）:\n",
      "[2. 5. 8.]\n"
     ]
    }
   ],
   "source": [
    "\n",
    "# axis=1 求平均值：对每行的值求平均, 是水平方向（结果是每行的平均值）\n",
    "print(\"对行求平均（axis=1）:\")\n",
    "print(np.mean(arr, axis=1))  \n"
   ],
   "metadata": {
    "collapsed": false,
    "ExecuteTime": {
     "end_time": "2025-01-03T08:19:34.719998Z",
     "start_time": "2025-01-03T08:19:34.715303Z"
    }
   },
   "id": "5ebf4f2a1fd614c2",
   "execution_count": 8
  },
  {
   "cell_type": "markdown",
   "source": [
    "（3）argmax() 和 argwhere() 的作用"
   ],
   "metadata": {
    "collapsed": false
   },
   "id": "911ca65ef0347bc6"
  },
  {
   "cell_type": "code",
   "outputs": [
    {
     "name": "stdout",
     "output_type": "stream",
     "text": [
      "数组中最大值的索引（扁平化处理）:\n",
      "8\n"
     ]
    }
   ],
   "source": [
    "# argmax 返回的是某一轴上最大值的索引\n",
    "# 如果不指定 axis，会把数组拉平再找最大值的索引\n",
    "print(\"数组中最大值的索引（扁平化处理）:\")\n",
    "print(np.argmax(arr))  # 输出: 8 （值为 9 的索引）"
   ],
   "metadata": {
    "collapsed": false,
    "ExecuteTime": {
     "end_time": "2025-01-03T08:20:04.699031Z",
     "start_time": "2025-01-03T08:20:04.695464Z"
    }
   },
   "id": "ebbdba4db11e4a36",
   "execution_count": 9
  },
  {
   "cell_type": "code",
   "outputs": [
    {
     "name": "stdout",
     "output_type": "stream",
     "text": [
      "沿 axis=0 找最大值的索引（每列最大值的行号）:\n",
      "[2 2 2]\n"
     ]
    }
   ],
   "source": [
    "# 沿列方向找最大值的索引（axis=0）\n",
    "print(\"沿 axis=0 找最大值的索引（每列最大值的行号）:\")\n",
    "print(np.argmax(arr, axis=0))  # 输出: [2 2 2]"
   ],
   "metadata": {
    "collapsed": false,
    "ExecuteTime": {
     "end_time": "2025-01-03T08:20:06.890715Z",
     "start_time": "2025-01-03T08:20:06.887338Z"
    }
   },
   "id": "5eb40d3019918fe6",
   "execution_count": 10
  },
  {
   "cell_type": "code",
   "outputs": [
    {
     "name": "stdout",
     "output_type": "stream",
     "text": [
      "沿 axis=1 找最大值的索引（每行最大值的列号）:\n",
      "[2 2 2]\n"
     ]
    }
   ],
   "source": [
    "\n",
    "# 沿行方向找最大值的索引（axis=1）\n",
    "print(\"沿 axis=1 找最大值的索引（每行最大值的列号）:\")\n",
    "print(np.argmax(arr, axis=1))  # 输出: [2 2 2]"
   ],
   "metadata": {
    "collapsed": false,
    "ExecuteTime": {
     "end_time": "2025-01-03T08:20:18.470388Z",
     "start_time": "2025-01-03T08:20:18.466598Z"
    }
   },
   "id": "95a1ebcfe7144272",
   "execution_count": 11
  },
  {
   "cell_type": "code",
   "outputs": [
    {
     "name": "stdout",
     "output_type": "stream",
     "text": [
      "找出大于 3 的元素的索引（二维坐标）:\n",
      "[[1 0]\n",
      " [1 1]\n",
      " [1 2]\n",
      " [2 0]\n",
      " [2 1]\n",
      " [2 2]]\n"
     ]
    }
   ],
   "source": [
    "\n",
    "# argwhere 返回满足条件的所有索引\n",
    "print(\"找出大于 3 的元素的索引（二维坐标）:\")\n",
    "print(np.argwhere(arr > 3))"
   ],
   "metadata": {
    "collapsed": false,
    "ExecuteTime": {
     "end_time": "2025-01-03T08:20:23.762844Z",
     "start_time": "2025-01-03T08:20:23.758656Z"
    }
   },
   "id": "cc8e393de4e51eac",
   "execution_count": 12
  },
  {
   "cell_type": "markdown",
   "source": [
    "（4）基于 Series 的 apply() 方法"
   ],
   "metadata": {
    "collapsed": false
   },
   "id": "6d523b1e1a3f3df6"
  },
  {
   "cell_type": "code",
   "outputs": [
    {
     "name": "stdout",
     "output_type": "stream",
     "text": [
      "对每个元素开平方:\n",
      "0    1.000000\n",
      "1    1.414214\n",
      "2    1.732051\n",
      "3    2.000000\n",
      "4    2.236068\n",
      "dtype: float64\n",
      "对每个元素求平方:\n",
      "0     1\n",
      "1     4\n",
      "2     9\n",
      "3    16\n",
      "4    25\n",
      "dtype: int64\n"
     ]
    }
   ],
   "source": [
    "# 创建一个 Pandas Series\n",
    "s = pd.Series([1, 2, 3, 4, 5])\n",
    "\n",
    "# 对 Series 中的每个元素应用函数，比如开平方\n",
    "print(\"对每个元素开平方:\")\n",
    "print(s.apply(np.sqrt))  # 输出: 每个元素的平方根\n",
    "\n",
    "# 使用自定义函数，比如求平方\n",
    "print(\"对每个元素求平方:\")\n",
    "print(s.apply(lambda x: x**2))  # 输出: 每个元素的平方"
   ],
   "metadata": {
    "collapsed": false,
    "ExecuteTime": {
     "end_time": "2025-01-03T08:25:24.563603Z",
     "start_time": "2025-01-03T08:25:24.552929Z"
    }
   },
   "id": "fb65701b8e12ce52",
   "execution_count": 13
  },
  {
   "cell_type": "markdown",
   "source": [
    "（5）基于 DataFrame 的 apply() 和 applymap() 方法"
   ],
   "metadata": {
    "collapsed": false
   },
   "id": "89ebd3757921ac79"
  },
  {
   "cell_type": "code",
   "outputs": [
    {
     "name": "stdout",
     "output_type": "stream",
     "text": [
      "对每列求和（axis=0）:\n",
      "A     9\n",
      "B    12\n",
      "dtype: int64\n",
      "对每行求和（axis=1）:\n",
      "0     3\n",
      "1     7\n",
      "2    11\n",
      "dtype: int64\n",
      "对每个元素求平方:\n",
      "    A   B\n",
      "0   1   4\n",
      "1   9  16\n",
      "2  25  36\n"
     ]
    },
    {
     "name": "stderr",
     "output_type": "stream",
     "text": [
      "C:\\Users\\gufan\\AppData\\Local\\Temp\\ipykernel_20556\\988726359.py:17: FutureWarning: DataFrame.applymap has been deprecated. Use DataFrame.map instead.\n",
      "  print(df.applymap(lambda x: x**2))\n"
     ]
    }
   ],
   "source": [
    "# 创建一个 Pandas DataFrame\n",
    "df = pd.DataFrame([[1, 2], [3, 4], [5, 6]], columns=['A', 'B'])\n",
    "\n",
    "# apply() 对行或列应用函数\n",
    "print(\"对每列求和（axis=0）:\")\n",
    "print(df.apply(np.sum, axis=0))  # 输出: A 9, B 12\n",
    "\n",
    "print(\"对每行求和（axis=1）:\")\n",
    "print(df.apply(np.sum, axis=1))  # 输出: 3, 7, 11\n",
    "\n",
    "# applymap() 对每个元素应用函数，比如每个元素平方\n",
    "print(\"对每个元素求平方:\")\n",
    "print(df.applymap(lambda x: x**2))"
   ],
   "metadata": {
    "collapsed": false,
    "ExecuteTime": {
     "end_time": "2025-01-03T08:26:11.518002Z",
     "start_time": "2025-01-03T08:26:11.508715Z"
    }
   },
   "id": "f9e563f6c549441e",
   "execution_count": 14
  },
  {
   "cell_type": "markdown",
   "source": [
    "（6）基于 DataFrame 的 style"
   ],
   "metadata": {
    "collapsed": false
   },
   "id": "9b1e46557f20341a"
  },
  {
   "cell_type": "code",
   "outputs": [
    {
     "data": {
      "text/plain": "<pandas.io.formats.style.Styler at 0x195c8be3d40>",
      "text/html": "<style type=\"text/css\">\n#T_64778_row0_col0, #T_64778_row0_col1, #T_64778_row1_col0 {\n  color: black;\n}\n#T_64778_row1_col1, #T_64778_row2_col0, #T_64778_row2_col1 {\n  color: red;\n}\n</style>\n<table id=\"T_64778\">\n  <thead>\n    <tr>\n      <th class=\"blank level0\" >&nbsp;</th>\n      <th id=\"T_64778_level0_col0\" class=\"col_heading level0 col0\" >A</th>\n      <th id=\"T_64778_level0_col1\" class=\"col_heading level0 col1\" >B</th>\n    </tr>\n  </thead>\n  <tbody>\n    <tr>\n      <th id=\"T_64778_level0_row0\" class=\"row_heading level0 row0\" >0</th>\n      <td id=\"T_64778_row0_col0\" class=\"data row0 col0\" >1</td>\n      <td id=\"T_64778_row0_col1\" class=\"data row0 col1\" >2</td>\n    </tr>\n    <tr>\n      <th id=\"T_64778_level0_row1\" class=\"row_heading level0 row1\" >1</th>\n      <td id=\"T_64778_row1_col0\" class=\"data row1 col0\" >3</td>\n      <td id=\"T_64778_row1_col1\" class=\"data row1 col1\" >4</td>\n    </tr>\n    <tr>\n      <th id=\"T_64778_level0_row2\" class=\"row_heading level0 row2\" >2</th>\n      <td id=\"T_64778_row2_col0\" class=\"data row2 col0\" >5</td>\n      <td id=\"T_64778_row2_col1\" class=\"data row2 col1\" >6</td>\n    </tr>\n  </tbody>\n</table>\n"
     },
     "execution_count": 16,
     "metadata": {},
     "output_type": "execute_result"
    }
   ],
   "source": [
    "# 对 DataFrame 添加样式（比如高亮最大值）\n",
    "styled = df.style.highlight_max(axis=0)  # 高亮列方向的最大值\n",
    "styled  # 在 Jupyter Notebook 中会以格式化的 HTML 显示\n",
    "\n",
    "# 自定义样式函数，比如大于 3 的值标红\n",
    "def highlight_greater_than_3(val):\n",
    "    color = 'red' if val > 3 else 'black'\n",
    "    return f'color: {color}'\n",
    "\n",
    "styled = df.style.map(highlight_greater_than_3)\n",
    "styled \n"
   ],
   "metadata": {
    "collapsed": false,
    "ExecuteTime": {
     "end_time": "2025-01-03T08:29:11.667694Z",
     "start_time": "2025-01-03T08:29:11.661241Z"
    }
   },
   "id": "9f1cc5be24a34b0a",
   "execution_count": 16
  },
  {
   "cell_type": "code",
   "outputs": [],
   "source": [],
   "metadata": {
    "collapsed": false
   },
   "id": "c50861481cd9bdfb"
  }
 ],
 "metadata": {
  "kernelspec": {
   "display_name": "Python 3",
   "language": "python",
   "name": "python3"
  },
  "language_info": {
   "codemirror_mode": {
    "name": "ipython",
    "version": 2
   },
   "file_extension": ".py",
   "mimetype": "text/x-python",
   "name": "python",
   "nbconvert_exporter": "python",
   "pygments_lexer": "ipython2",
   "version": "2.7.6"
  }
 },
 "nbformat": 4,
 "nbformat_minor": 5
}
