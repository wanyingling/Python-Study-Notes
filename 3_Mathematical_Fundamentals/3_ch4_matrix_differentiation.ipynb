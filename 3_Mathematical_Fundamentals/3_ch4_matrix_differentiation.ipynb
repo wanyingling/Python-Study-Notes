{
 "cells": [
  {
   "cell_type": "markdown",
   "source": [
    "# 矩阵的导数运算\n",
    "\n",
    "作者: 宛莹 日期: 2025年1月\n",
    "Author: Wanying Date: January 2025\n",
    "\n"
   ],
   "metadata": {
    "collapsed": false
   },
   "id": "de6f60a859fd3842"
  },
  {
   "cell_type": "markdown",
   "source": [],
   "metadata": {
    "collapsed": false
   },
   "id": "897019480f9c5af7"
  },
  {
   "cell_type": "markdown",
   "source": [
    "## 标量方程对向量的导数\n",
    "\n"
   ],
   "metadata": {
    "collapsed": false
   },
   "id": "488f23c7bd579b26"
  }
 ],
 "metadata": {
  "kernelspec": {
   "display_name": "Python 3",
   "language": "python",
   "name": "python3"
  },
  "language_info": {
   "codemirror_mode": {
    "name": "ipython",
    "version": 2
   },
   "file_extension": ".py",
   "mimetype": "text/x-python",
   "name": "python",
   "nbconvert_exporter": "python",
   "pygments_lexer": "ipython2",
   "version": "2.7.6"
  }
 },
 "nbformat": 4,
 "nbformat_minor": 5
}
